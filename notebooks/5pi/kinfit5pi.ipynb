{
 "cells": [
  {
   "cell_type": "code",
   "execution_count": 1,
   "id": "27b8908d",
   "metadata": {},
   "outputs": [
    {
     "name": "stdout",
     "output_type": "stream",
     "text": [
      "Welcome to JupyROOT 6.26/00\n"
     ]
    }
   ],
   "source": [
    "from run_kinfit import run_kinfit\n",
    "from draw_funcs import draw_1d_hist, draw_1d_hists\n",
    "from ROOT import TFile\n",
    "import matplotlib.pyplot as plt"
   ]
  },
  {
   "cell_type": "code",
   "execution_count": 2,
   "id": "053bc54b",
   "metadata": {},
   "outputs": [],
   "source": [
    "# input_path = '/var/kinfit/data/tr_ph_run045864.root'\n",
    "# output_path = 'kinfit_5pi_run045864.root'\n",
    "\n",
    "input_path = '/var/kinfit/data/tr_ph_run025139.root'\n",
    "output_path = 'kinfit_etapipi_etato2gamma_run025139.root'"
   ]
  },
  {
   "cell_type": "code",
   "execution_count": null,
   "id": "02683f28",
   "metadata": {},
   "outputs": [
    {
     "data": {
      "application/vnd.jupyter.widget-view+json": {
       "model_id": "02b627c7a71d4a239f369e113396c426",
       "version_major": 2,
       "version_minor": 0
      },
      "text/plain": [
       "Output(layout=Layout(border='1px solid black'))"
      ]
     },
     "metadata": {},
     "output_type": "display_data"
    }
   ],
   "source": [
    "run_kinfit(input_path, output_path=output_path)"
   ]
  },
  {
   "cell_type": "code",
   "execution_count": null,
   "id": "6d5e3a6b",
   "metadata": {},
   "outputs": [],
   "source": [
    "fl = TFile.Open(output_path, 'read')"
   ]
  },
  {
   "cell_type": "code",
   "execution_count": null,
   "id": "a737a976",
   "metadata": {},
   "outputs": [],
   "source": [
    "fl.kf_data.Draw(\"kf_err>>kf_err(3,0,3)\", \"\", \"goff\")\n",
    "draw_1d_hist(\"kf_err\", xlabel='error code')\n",
    "plt.savefig('kf_error_5pi.eps')"
   ]
  },
  {
   "cell_type": "code",
   "execution_count": null,
   "id": "a3cb3bf9",
   "metadata": {},
   "outputs": [],
   "source": [
    "fl.kf_data.Draw(\"kf_chi2>>kf_chi2(128,0,128)\", \"kf_err==0\", \"goff\")\n",
    "draw_1d_hist(\"kf_chi2\", xlabel=r'$\\chi^2$')\n",
    "plt.savefig('kf_chi2_5pi.eps')"
   ]
  },
  {
   "cell_type": "code",
   "execution_count": null,
   "id": "a7d22650",
   "metadata": {},
   "outputs": [],
   "source": [
    "fl.kf_data.Draw(\"in_mgg>>in_mgg(512,0,1.2)\", \"kf_err==0\", \"goff\")\n",
    "fl.kf_data.Draw(\"kf_mgg>>kf_mgg(512,0,1.2)\", \"kf_err==0\", \"goff\")\n",
    "draw_1d_hists([('in_mgg', 'before kinematic fit'), ('kf_mgg', 'after kinematic fit')], xlabel=r'$M_{\\gamma\\gamma}$ (GeV/c$^2$)')"
   ]
  },
  {
   "cell_type": "code",
   "execution_count": null,
   "id": "6e6ade45",
   "metadata": {},
   "outputs": [],
   "source": [
    "fl.Close()"
   ]
  },
  {
   "cell_type": "code",
   "execution_count": null,
   "id": "51e95be1",
   "metadata": {},
   "outputs": [],
   "source": []
  }
 ],
 "metadata": {
  "kernelspec": {
   "display_name": "Python 3 (ipykernel)",
   "language": "python",
   "name": "python3"
  },
  "language_info": {
   "codemirror_mode": {
    "name": "ipython",
    "version": 3
   },
   "file_extension": ".py",
   "mimetype": "text/x-python",
   "name": "python",
   "nbconvert_exporter": "python",
   "pygments_lexer": "ipython3",
   "version": "3.10.4"
  }
 },
 "nbformat": 4,
 "nbformat_minor": 5
}
