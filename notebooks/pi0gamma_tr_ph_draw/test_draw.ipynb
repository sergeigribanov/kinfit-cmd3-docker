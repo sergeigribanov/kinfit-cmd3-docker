{
 "cells": [
  {
   "cell_type": "code",
   "execution_count": 2,
   "id": "ae46afcc",
   "metadata": {},
   "outputs": [],
   "source": [
    "from run_kinfit import run_kinfit, build_custom_hypo\n",
    "from draw_funcs import draw_1d_hist, draw_1d_hists\n",
    "from ROOT import TFile\n",
    "import matplotlib.pyplot as plt"
   ]
  },
  {
   "cell_type": "code",
   "execution_count": 3,
   "id": "f0f613fe",
   "metadata": {},
   "outputs": [],
   "source": [
    "input_path = '/var/kinfit/data/tr_ph_run039784_v5.root'"
   ]
  },
  {
   "cell_type": "code",
   "execution_count": 7,
   "id": "8f3c7029",
   "metadata": {},
   "outputs": [],
   "source": [
    "fl = TFile.Open(input_path, 'read')"
   ]
  },
  {
   "cell_type": "code",
   "execution_count": 12,
   "id": "aea0bb4d",
   "metadata": {},
   "outputs": [
    {
     "data": {
      "image/png": "[encoded data removed]",
      "text/plain": [
       "<Figure size 342.879x211.911 with 1 Axes>"
      ]
     },
     "metadata": {
      "needs_background": "light"
     },
     "output_type": "display_data"
    }
   ],
   "source": [
    "fl.tr_ph.Draw('nph>>nph', '', 'goff')\n",
    "draw_1d_hist(\"nph\", xlabel='number of photon clusters',\n",
    "            fraction=0.8,\n",
    "            info_coords=(0.6, 0.55))\n",
    "plt.savefig('nph_pi0gamma.eps')"
   ]
  },
  {
   "cell_type": "code",
   "execution_count": 6,
   "id": "d0839840",
   "metadata": {},
   "outputs": [],
   "source": [
    "# fl.Close()"
   ]
  },
  {
   "cell_type": "code",
   "execution_count": null,
   "id": "88f52f19",
   "metadata": {},
   "outputs": [],
   "source": []
  }
 ],
 "metadata": {
  "kernelspec": {
   "display_name": "Python 3 (ipykernel)",
   "language": "python",
   "name": "python3"
  },
  "language_info": {
   "codemirror_mode": {
    "name": "ipython",
    "version": 3
   },
   "file_extension": ".py",
   "mimetype": "text/x-python",
   "name": "python",
   "nbconvert_exporter": "python",
   "pygments_lexer": "ipython3",
   "version": "3.10.4"
  }
 },
 "nbformat": 4,
 "nbformat_minor": 5
}
