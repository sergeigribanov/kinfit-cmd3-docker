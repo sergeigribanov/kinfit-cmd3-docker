{
 "cells": [
  {
   "cell_type": "code",
   "execution_count": null,
   "id": "2d2e9707",
   "metadata": {},
   "outputs": [],
   "source": [
    "from run_kinfit import run_kinfit, build_custom_hypo\n",
    "from draw_funcs import draw_1d_hist, draw_1d_hists\n",
    "from ROOT import TFile\n",
    "import matplotlib.pyplot as plt"
   ]
  },
  {
   "cell_type": "code",
   "execution_count": null,
   "id": "edcd2a33",
   "metadata": {},
   "outputs": [],
   "source": [
    "input_path = '/var/kinfit/data/tr_ph_run039784_v5.root'\n",
    "output_path = 'kinfit_pi0gamma_run039784.root'"
   ]
  },
  {
   "cell_type": "code",
   "execution_count": null,
   "id": "257e68b5",
   "metadata": {},
   "outputs": [],
   "source": [
    "build_custom_hypo('Hypo3PhotonsCustom.cpp')"
   ]
  },
  {
   "cell_type": "code",
   "execution_count": null,
   "id": "9c9acdfb",
   "metadata": {},
   "outputs": [],
   "source": [
    "run_kinfit(input_path, output_path=output_path)"
   ]
  },
  {
   "cell_type": "code",
   "execution_count": null,
   "id": "f2067af1",
   "metadata": {},
   "outputs": [],
   "source": [
    "fl = TFile.Open(output_path, 'read')"
   ]
  },
  {
   "cell_type": "code",
   "execution_count": null,
   "id": "e96ad496",
   "metadata": {},
   "outputs": [],
   "source": [
    "fl.kf_data.Draw(\"kf_err>>kf_err(2,0,2)\", \"\", \"goff\")\n",
    "draw_1d_hist(\"kf_err\", xlabel='error code')\n",
    "plt.savefig('kf_err_pi0gamma_kf_error.eps')"
   ]
  },
  {
   "cell_type": "code",
   "execution_count": null,
   "id": "24f12f43",
   "metadata": {},
   "outputs": [],
   "source": [
    "fl.kf_data.Draw(\"kf_chi2>>kf_chi2(256,0,32)\", \"kf_err==0\", \"goff\")\n",
    "draw_1d_hist(\"kf_chi2\", xlabel=r'$\\chi^2$')\n",
    "plt.savefig('kf_chi2_pi0gamma.eps')"
   ]
  },
  {
   "cell_type": "code",
   "execution_count": null,
   "id": "6c45917d",
   "metadata": {},
   "outputs": [],
   "source": [
    "fl.kf_data.Draw(\"in_mgg>>in_mgg(512,0,0.9)\", \"kf_err==0\", \"goff\")\n",
    "fl.kf_data.Draw(\"kf_mgg>>kf_mgg(512,0,0.9)\", \"kf_err==0\", \"goff\")\n",
    "draw_1d_hists([('in_mgg', 'before kinematic fit'), ('kf_mgg', 'after kinematic fit')], xlabel=r'$M_{\\gamma\\gamma}$ (GeV/c$^2$)')"
   ]
  },
  {
   "cell_type": "code",
   "execution_count": null,
   "id": "bad55022",
   "metadata": {},
   "outputs": [],
   "source": [
    "fl.kf_data.Draw(\"kf_vtx[0]>>kf_vtx_x(64, -1, -0.2)\", \"kf_err==0\", \"goff\")\n",
    "draw_1d_hist(\"kf_vtx_x\", xlabel=r'$x$ (cm)')\n",
    "plt.savefig('kf_vtx_x_pi0gamma.eps')"
   ]
  },
  {
   "cell_type": "code",
   "execution_count": null,
   "id": "1a47cbfd",
   "metadata": {},
   "outputs": [],
   "source": [
    "fl.kf_data.Draw(\"kf_vtx[1]>>kf_vtx_y(64, -0.75, 0.5)\", \"kf_err==0\", \"goff\")\n",
    "draw_1d_hist(\"kf_vtx_y\", xlabel=r'$y$ (cm)')\n",
    "plt.savefig('kf_vtx_y_pi0gamma.eps')"
   ]
  },
  {
   "cell_type": "code",
   "execution_count": null,
   "id": "592faf33",
   "metadata": {},
   "outputs": [],
   "source": [
    "fl.kf_data.Draw(\"kf_vtx[2]>>kf_vtx_z(64, -10, 10)\", \"kf_err==0\", \"goff\")\n",
    "draw_1d_hist(\"kf_vtx_z\", xlabel=r'$z$ (cm)')\n",
    "plt.savefig('kf_vtx_z_pi0gamma.eps')"
   ]
  },
  {
   "cell_type": "code",
   "execution_count": null,
   "id": "e94c5a94",
   "metadata": {},
   "outputs": [],
   "source": [
    "fl.kf_data.Draw(\"in_total_p[0]>>in_total_px(128,-0.8,1.5)\", \"kf_err==0\", \"goff\")\n",
    "fl.kf_data.Draw(\"kf_total_p[0]>>kf_total_px(128,-0.8,1.5)\", \"kf_err==0\", \"goff\")\n",
    "draw_1d_hists([('in_total_px', 'before kinematic fit'), ('kf_total_px', 'after kinematic fit')], xlabel=r'$p^{\\text{tot}}_x$ (GeV/c)', yscale='log')"
   ]
  },
  {
   "cell_type": "code",
   "execution_count": null,
   "id": "60928c50",
   "metadata": {},
   "outputs": [],
   "source": [
    "fl.kf_data.Draw(\"in_total_p[1]>>in_total_py(128,-0.8,1.5)\", \"kf_err==0\", \"goff\")\n",
    "fl.kf_data.Draw(\"kf_total_p[1]>>kf_total_py(128,-0.8,1.5)\", \"kf_err==0\", \"goff\")\n",
    "draw_1d_hists([('in_total_py', 'before kinematic fit'), ('kf_total_py', 'after kinematic fit')], xlabel=r'$p^{\\text{tot}}_y$ (GeV/c)', yscale='log')"
   ]
  },
  {
   "cell_type": "code",
   "execution_count": null,
   "id": "c52368a5",
   "metadata": {},
   "outputs": [],
   "source": [
    "fl.kf_data.Draw(\"in_total_p[2]>>in_total_pz(128,-1.0,2.0)\", \"kf_err==0\", \"goff\")\n",
    "fl.kf_data.Draw(\"kf_total_p[2]>>kf_total_pz(128,-1.0,2.0)\", \"kf_err==0\", \"goff\")\n",
    "draw_1d_hists([('in_total_pz', 'before kinematic fit'), ('kf_total_pz', 'after kinematic fit')], xlabel=r'$p^{\\text{tot}}_z$ (GeV/c)', yscale='log')"
   ]
  },
  {
   "cell_type": "code",
   "execution_count": null,
   "id": "3c5e93d6",
   "metadata": {},
   "outputs": [],
   "source": [
    "fl.kf_data.Draw(\"in_total_p[3]>>in_total_pe(128, 0, 3.0)\", \"kf_err==0\", \"goff\")\n",
    "fl.kf_data.Draw(\"kf_total_p[3]>>kf_total_pe(128, 0, 3.0)\", \"kf_err==0\", \"goff\")\n",
    "draw_1d_hists([('in_total_pe', 'before kinematic fit'), ('kf_total_pe', 'after kinematic fit')], xlabel=r'$E^{\\text{tot}}$ (GeV)', yscale='log')"
   ]
  },
  {
   "cell_type": "code",
   "execution_count": null,
   "id": "c358d19d",
   "metadata": {},
   "outputs": [],
   "source": [
    "fl.Close()"
   ]
  },
  {
   "cell_type": "code",
   "execution_count": null,
   "id": "fb77479f",
   "metadata": {},
   "outputs": [],
   "source": []
  }
 ],
 "metadata": {
  "kernelspec": {
   "display_name": "Python 3 (ipykernel)",
   "language": "python",
   "name": "python3"
  },
  "language_info": {
   "codemirror_mode": {
    "name": "ipython",
    "version": 3
   },
   "file_extension": ".py",
   "mimetype": "text/x-python",
   "name": "python",
   "nbconvert_exporter": "python",
   "pygments_lexer": "ipython3",
   "version": "3.10.4"
  }
 },
 "nbformat": 4,
 "nbformat_minor": 5
}
