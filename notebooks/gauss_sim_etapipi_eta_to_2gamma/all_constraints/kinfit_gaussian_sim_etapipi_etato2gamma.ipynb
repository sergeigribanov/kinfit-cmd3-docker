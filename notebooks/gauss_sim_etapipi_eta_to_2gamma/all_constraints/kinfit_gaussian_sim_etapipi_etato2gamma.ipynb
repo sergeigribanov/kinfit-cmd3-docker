{
 "cells": [
  {
   "cell_type": "code",
   "execution_count": null,
   "id": "92ac8f6e",
   "metadata": {},
   "outputs": [],
   "source": [
    "import ROOT\n",
    "from draw_funcs import draw_chi2_gaussian_sim, draw_1d_hist, draw_2d_hist2\n",
    "from ROOT import TFile\n",
    "import matplotlib.pyplot as plt"
   ]
  },
  {
   "cell_type": "code",
   "execution_count": null,
   "id": "7658cd6e",
   "metadata": {},
   "outputs": [],
   "source": [
    "entry = 6\n",
    "nevents = 1000000\n",
    "mfield = 1.3\n",
    "input_path = '/var/kinfit/data/tr_ph_run021142.root'\n",
    "output_path = 'kinfit_gaussian_fit_etapipi_etato2gamma_run021142_.root'"
   ]
  },
  {
   "cell_type": "code",
   "execution_count": null,
   "id": "a107e174",
   "metadata": {},
   "outputs": [],
   "source": [
    "ROOT.gInterpreter.ProcessLine('gROOT->LoadMacro(\"/home/hep/packages/gaussgen/share/gaussgen/rootlogon.C\")')"
   ]
  },
  {
   "cell_type": "code",
   "execution_count": null,
   "id": "62d020ff",
   "metadata": {},
   "outputs": [],
   "source": [
    "ROOT.gInterpreter.ProcessLine('gROOT->LoadMacro(\"/home/hep/packages/kfcmd/share/kfcmd/rootlogon.C\")')"
   ]
  },
  {
   "cell_type": "code",
   "execution_count": null,
   "id": "cac4c447",
   "metadata": {},
   "outputs": [],
   "source": [
    "ROOT.gInterpreter.ProcessLine('.L TrPh.C++')"
   ]
  },
  {
   "cell_type": "code",
   "execution_count": null,
   "id": "17ccac93",
   "metadata": {},
   "outputs": [],
   "source": [
    "ROOT.gInterpreter.ProcessLine('TFile fl(\"{}\", \"read\")'.format(input_path))"
   ]
  },
  {
   "cell_type": "code",
   "execution_count": null,
   "id": "1227bd18",
   "metadata": {},
   "outputs": [],
   "source": [
    "ROOT.gInterpreter.ProcessLine('TrPh a(tr_ph)')"
   ]
  },
  {
   "cell_type": "code",
   "execution_count": null,
   "id": "a63cae15",
   "metadata": {},
   "outputs": [],
   "source": [
    "ROOT.gInterpreter.ProcessLine('a.setNEvents({})'.format(nevents))"
   ]
  },
  {
   "cell_type": "code",
   "execution_count": null,
   "id": "42136d4c",
   "metadata": {},
   "outputs": [],
   "source": [
    "ROOT.gInterpreter.ProcessLine('a.setEntry({})'.format(entry))"
   ]
  },
  {
   "cell_type": "code",
   "execution_count": null,
   "id": "911d151b",
   "metadata": {},
   "outputs": [],
   "source": [
    "ROOT.gInterpreter.ProcessLine('a.Loop(\"{output_path}\", {mfield})'.format(output_path=output_path, mfield=mfield))"
   ]
  },
  {
   "cell_type": "code",
   "execution_count": null,
   "id": "299e14a7",
   "metadata": {},
   "outputs": [],
   "source": [
    "ROOT.gInterpreter.ProcessLine('fl.Close()')"
   ]
  },
  {
   "cell_type": "code",
   "execution_count": null,
   "id": "fd7b10b1",
   "metadata": {},
   "outputs": [],
   "source": [
    "fl = TFile.Open(output_path, 'read')"
   ]
  },
  {
   "cell_type": "code",
   "execution_count": null,
   "id": "7dcd4dec",
   "metadata": {},
   "outputs": [],
   "source": [
    "ROOT.gInterpreter.ProcessLine('''double fcn(double *x, double *p) {\n",
    "                                        return p[0] / 0.1875 * ROOT::Math::chisquared_pdf(x[0], p[1]);}''')"
   ]
  },
  {
   "cell_type": "code",
   "execution_count": null,
   "id": "716256b0",
   "metadata": {},
   "outputs": [],
   "source": [
    "ROOT.gInterpreter.ProcessLine('TF1 f0(\"f0\", fcn, 0, 24, 2)')"
   ]
  },
  {
   "cell_type": "code",
   "execution_count": null,
   "id": "9f78b49b",
   "metadata": {},
   "outputs": [],
   "source": [
    "ROOT.gInterpreter.ProcessLine('f0.SetNpx(10000)')\n",
    "ROOT.gInterpreter.ProcessLine('f0.SetParameter(0, 2.e+4)')\n",
    "ROOT.gInterpreter.ProcessLine('f0.SetParameter(1, 6)')"
   ]
  },
  {
   "cell_type": "code",
   "execution_count": null,
   "id": "0bfa45d2",
   "metadata": {},
   "outputs": [],
   "source": [
    "ROOT.gInterpreter.ProcessLine('kf_chi2->Fit(&f0)')"
   ]
  },
  {
   "cell_type": "code",
   "execution_count": null,
   "id": "d4afbea7",
   "metadata": {
    "scrolled": false
   },
   "outputs": [],
   "source": [
    "draw_chi2_gaussian_sim(\"kf_chi2\", \"f0\", xlabel=r'$\\chi^2$',\n",
    "                       fraction=0.8,\n",
    "                       info_coords=(0.5, 0.2),\n",
    "                       dw=-0.2,\n",
    "                      dh=0.4)\n",
    "plt.savefig('kf_chi2_gsim_etapipi.eps')"
   ]
  },
  {
   "cell_type": "code",
   "execution_count": null,
   "id": "819cc2e5",
   "metadata": {},
   "outputs": [],
   "source": [
    "draw_1d_hist(\"qhist\", \n",
    "             xlabel=r'$\\frac{1}{2}\\Delta\\bm{y}^{\\intercal}\\hat{Q}\\Delta\\bm{y}$',\n",
    "            fraction=0.47,\n",
    "            info_coords=(0.4, 0.4))\n",
    "plt.gcf().subplots_adjust(bottom=0.275)\n",
    "plt.savefig(\"qhalf_gsim_etapipi.eps\")"
   ]
  },
  {
   "cell_type": "code",
   "execution_count": null,
   "id": "942fa0ba",
   "metadata": {
    "scrolled": true
   },
   "outputs": [],
   "source": [
    "import matplotlib.colors as colors\n",
    "import numpy as np\n",
    "bounds = np.linspace(0, 8, 16)\n",
    "norm = colors.BoundaryNorm(boundaries=bounds, ncolors=256)\n",
    "draw_2d_hist2('chi2_vs_q', \n",
    "              xlabel=r'$\\chi^2$', \n",
    "              ylabel=r'$\\frac{1}{2}\\Delta\\bm{y}^{\\intercal}\\hat{Q}\\Delta\\bm{y}$', \n",
    "              fraction=0.47,\n",
    "              bins=(256, 256),\n",
    "              norm=norm,\n",
    "              clip=((0, 30.), (-5., 5.)))\n",
    "plt.gcf().subplots_adjust(left=0.235)\n",
    "plt.savefig('qhalf_vs_chi2_gsim_etapipi.eps')"
   ]
  },
  {
   "cell_type": "code",
   "execution_count": null,
   "id": "dc333bb1",
   "metadata": {
    "scrolled": true
   },
   "outputs": [],
   "source": [
    "# fl.Close()"
   ]
  },
  {
   "cell_type": "code",
   "execution_count": null,
   "id": "ab1cd16a",
   "metadata": {},
   "outputs": [],
   "source": []
  }
 ],
 "metadata": {
  "kernelspec": {
   "display_name": "Python 3 (ipykernel)",
   "language": "python",
   "name": "python3"
  },
  "language_info": {
   "codemirror_mode": {
    "name": "ipython",
    "version": 3
   },
   "file_extension": ".py",
   "mimetype": "text/x-python",
   "name": "python",
   "nbconvert_exporter": "python",
   "pygments_lexer": "ipython3",
   "version": "3.10.5"
  }
 },
 "nbformat": 4,
 "nbformat_minor": 5
}
