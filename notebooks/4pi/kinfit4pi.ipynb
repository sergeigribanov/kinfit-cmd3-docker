{
 "cells": [
  {
   "cell_type": "code",
   "execution_count": null,
   "id": "e19e41f0",
   "metadata": {},
   "outputs": [],
   "source": [
    "from run_kinfit import run_kinfit\n",
    "from draw_funcs import draw_1d_hist, draw_1d_hists\n",
    "from ROOT import TFile\n",
    "import matplotlib.pyplot as plt"
   ]
  },
  {
   "cell_type": "code",
   "execution_count": null,
   "id": "dec56a45",
   "metadata": {},
   "outputs": [],
   "source": [
    "input_path = '/var/kinfit/data/tr_ph_run045727_v5.root'\n",
    "output_path = 'kinfit_4pi_run045727.root'"
   ]
  },
  {
   "cell_type": "code",
   "execution_count": null,
   "id": "4ff20b62",
   "metadata": {},
   "outputs": [],
   "source": [
    "run_kinfit(input_path, output_path=output_path)"
   ]
  },
  {
   "cell_type": "code",
   "execution_count": null,
   "id": "909d623c",
   "metadata": {},
   "outputs": [],
   "source": [
    "fl = TFile.Open(output_path, 'read')"
   ]
  },
  {
   "cell_type": "code",
   "execution_count": null,
   "id": "b47d7c9d",
   "metadata": {},
   "outputs": [],
   "source": [
    "fl.kf_data.Draw(\"kf_err>>kf_err(2,0,2)\", \"\", \"goff\")\n",
    "draw_1d_hist(\"kf_err\", xlabel='error code')\n",
    "plt.savefig('kf_error_4pi.eps')"
   ]
  },
  {
   "cell_type": "code",
   "execution_count": null,
   "id": "1cac771d",
   "metadata": {},
   "outputs": [],
   "source": [
    "fl.kf_data.Draw(\"kf_chi2>>kf_chi2(128,0,128)\", \"kf_err==0\", \"goff\")\n",
    "draw_1d_hist(\"kf_chi2\", xlabel=r'$\\chi^2$')\n",
    "plt.savefig('kf_chi2_4pi.eps')"
   ]
  },
  {
   "cell_type": "code",
   "execution_count": null,
   "id": "8809092d",
   "metadata": {},
   "outputs": [],
   "source": [
    "fl.kf_data.Draw(\"vtx[0]>>kf_vtx_x(64, -1, 1)\", \"kf_err==0\", \"goff\")\n",
    "draw_1d_hist(\"kf_vtx_x\", xlabel=r'$x$ (cm)')\n",
    "plt.savefig('kf_vtx_x_4pi.eps')"
   ]
  },
  {
   "cell_type": "code",
   "execution_count": null,
   "id": "e6086ee5",
   "metadata": {},
   "outputs": [],
   "source": [
    "fl.kf_data.Draw(\"vtx[1]>>kf_vtx_y(64, -1, 1)\", \"kf_err==0\", \"goff\")\n",
    "draw_1d_hist(\"kf_vtx_y\", xlabel=r'$y$ (cm)')\n",
    "plt.savefig('kf_vtx_y_4pi.eps')"
   ]
  },
  {
   "cell_type": "code",
   "execution_count": null,
   "id": "87efab7d",
   "metadata": {},
   "outputs": [],
   "source": [
    "fl.kf_data.Draw(\"vtx[2]>>kf_vtx_z(64, -12, 12)\", \"kf_err==0\", \"goff\")\n",
    "draw_1d_hist(\"kf_vtx_z\", xlabel=r'$z$ (cm)')\n",
    "plt.savefig('kf_vtx_z_4pi.eps')"
   ]
  },
  {
   "cell_type": "code",
   "execution_count": null,
   "id": "547f4a8e",
   "metadata": {},
   "outputs": [],
   "source": [
    "fl.Close()"
   ]
  },
  {
   "cell_type": "code",
   "execution_count": null,
   "id": "5fac4dd8",
   "metadata": {},
   "outputs": [],
   "source": []
  }
 ],
 "metadata": {
  "kernelspec": {
   "display_name": "Python 3 (ipykernel)",
   "language": "python",
   "name": "python3"
  },
  "language_info": {
   "codemirror_mode": {
    "name": "ipython",
    "version": 3
   },
   "file_extension": ".py",
   "mimetype": "text/x-python",
   "name": "python",
   "nbconvert_exporter": "python",
   "pygments_lexer": "ipython3",
   "version": "3.10.4"
  }
 },
 "nbformat": 4,
 "nbformat_minor": 5
}
