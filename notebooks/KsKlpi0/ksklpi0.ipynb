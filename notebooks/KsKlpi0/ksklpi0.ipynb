{
 "cells": [
  {
   "cell_type": "code",
   "execution_count": null,
   "id": "deb0d1e1",
   "metadata": {},
   "outputs": [],
   "source": [
    "from run_kinfit import run_kinfit\n",
    "from draw_funcs import draw_1d_hist, draw_1d_hists, vertices_plot2, draw_2d_hist\n",
    "from ROOT import TFile\n",
    "import matplotlib.pyplot as plt"
   ]
  },
  {
   "cell_type": "code",
   "execution_count": null,
   "id": "ea56a38c",
   "metadata": {},
   "outputs": [],
   "source": [
    "input_path = \"/var/kinfit/data/tr_ph_run014244_v5.root\"\n",
    "output_path = \"kinfit_kskpi_run014244.root\""
   ]
  },
  {
   "cell_type": "code",
   "execution_count": null,
   "id": "c8b92a8e",
   "metadata": {},
   "outputs": [],
   "source": [
    "run_kinfit(input_path, output_path=output_path, mfield=1.3)"
   ]
  },
  {
   "cell_type": "code",
   "execution_count": null,
   "id": "91ae3217",
   "metadata": {},
   "outputs": [],
   "source": [
    "fl = TFile.Open(output_path, 'read')"
   ]
  },
  {
   "cell_type": "code",
   "execution_count": null,
   "id": "80913096",
   "metadata": {},
   "outputs": [],
   "source": [
    "fl.kf_data.Draw(\"kf_err>>kf_err_ksklpi0(2,0,2)\", \"\", \"goff\")\n",
    "draw_1d_hist(\"kf_err_ksklpi0\", xlabel='error code')\n",
    "plt.savefig('kf_err_ksklpi0.eps')"
   ]
  },
  {
   "cell_type": "code",
   "execution_count": null,
   "id": "65ac8a5a",
   "metadata": {},
   "outputs": [],
   "source": [
    "fl.kf_data.Draw(\"kf_chi2>>kf_chi2_ksklpi0(128,0,64)\", \"kf_err==0\", \"goff\")\n",
    "draw_1d_hist(\"kf_chi2_ksklpi0\", xlabel=r'$\\chi^2$')\n",
    "plt.savefig('kf_chi2_ksklpi0.eps')"
   ]
  },
  {
   "cell_type": "code",
   "execution_count": null,
   "id": "41504dd6",
   "metadata": {},
   "outputs": [],
   "source": [
    "fl.kf_data.Draw(\"in_mks>>in_mks(512,0.2,0.8)\", \"kf_err==0\", \"goff\")\n",
    "fl.kf_data.Draw(\"kf_mks>>kf_mks(512,0.2,0.8)\", \"kf_err==0\", \"goff\")\n",
    "draw_1d_hists([('in_mks', 'before kinematic fit'), ('kf_mks', 'after kinematic fit')], xlabel=r'$M_{\\pi^+\\pi^-}$ (GeV/c$^2$)')"
   ]
  },
  {
   "cell_type": "code",
   "execution_count": null,
   "id": "c591defa",
   "metadata": {},
   "outputs": [],
   "source": [
    "fl.kf_data.Draw(\"in_mgg>>in_mgg(512,0,1.2)\", \"kf_err==0\", \"goff\")\n",
    "fl.kf_data.Draw(\"kf_mgg>>kf_mgg(512,0,1.2)\", \"kf_err==0\", \"goff\")\n",
    "draw_1d_hists([('in_mgg', 'before kinematic fit'), ('kf_mgg', 'after kinematic fit')], xlabel=r'$M_{\\gamma\\gamma}$ (GeV/c$^2$)')"
   ]
  },
  {
   "cell_type": "code",
   "execution_count": null,
   "id": "55949efc",
   "metadata": {},
   "outputs": [],
   "source": [
    "fl.kf_data.Draw(\"kf_vtx0_x>>kf_vtx0_x(256, -10, 10)\", \"\", \"goff\")\n",
    "fl.kf_data.Draw(\"kf_vtx0_y>>kf_vtx0_y(256, -10, 10)\", \"\", \"goff\")\n",
    "fl.kf_data.Draw(\"kf_vtx0_z>>kf_vtx0_z(256, -10, 10)\", \"\", \"goff\")\n",
    "fl.kf_data.Draw(\"kf_vtx1_x>>kf_vtx1_x(256, -10, 10)\", \"\", \"goff\")\n",
    "fl.kf_data.Draw(\"kf_vtx1_y>>kf_vtx1_y(256, -10, 10)\", \"\", \"goff\")\n",
    "fl.kf_data.Draw(\"kf_vtx1_z>>kf_vtx1_z(256, -10, 10)\", \"\", \"goff\")\n",
    "vertices_plot2([['kf_vtx0_x', 'kf_vtx1_x'], \n",
    "               ['kf_vtx0_y', 'kf_vtx1_y'],\n",
    "               ['kf_vtx0_z', 'kf_vtx1_z']],\n",
    "                info_coords=(0.6, 0.6))"
   ]
  },
  {
   "cell_type": "code",
   "execution_count": null,
   "id": "9b594955",
   "metadata": {},
   "outputs": [],
   "source": [
    "fl.kf_data.Draw(\"kf_vtx_dr>>kf_vtx_dr(128, 0, 15)\", \"\", \"goff\")\n",
    "draw_1d_hist(\"kf_vtx_dr\", xlabel=r'$\\Delta r$ (cm)')\n",
    "plt.savefig('kf_vtx_dr_ksklpi0.eps')"
   ]
  },
  {
   "cell_type": "code",
   "execution_count": null,
   "id": "250ee19b",
   "metadata": {},
   "outputs": [],
   "source": [
    "# fl.kf_data.Draw(\"kf_vtx_drho>>kf_vtx_drho(128, 0, 15)\", \"\", \"goff\")\n",
    "# draw_1d_hist(\"kf_vtx_drho\", xlabel=r'$\\Delta\\rho$ (cm)')\n",
    "# plt.savefig('kf_vtx_drho_ksklpi0.eps')"
   ]
  },
  {
   "cell_type": "code",
   "execution_count": null,
   "id": "ddc130c9",
   "metadata": {},
   "outputs": [],
   "source": [
    "fl.kf_data.Draw(\"kf_dvtx_2pi_angle>>kf_angle(16, 0, 3.14159\", \"\", \"goff\")\n",
    "draw_1d_hist(\"kf_angle\", xlabel=r'$\\alpha$ (rad)')\n",
    "plt.savefig('kf_ks_prod_angle_ksklpi0.eps')"
   ]
  },
  {
   "cell_type": "code",
   "execution_count": null,
   "id": "f6f30103",
   "metadata": {},
   "outputs": [],
   "source": [
    "fl.Close()"
   ]
  },
  {
   "cell_type": "code",
   "execution_count": null,
   "id": "640a1172",
   "metadata": {},
   "outputs": [],
   "source": []
  }
 ],
 "metadata": {
  "kernelspec": {
   "display_name": "Python 3 (ipykernel)",
   "language": "python",
   "name": "python3"
  },
  "language_info": {
   "codemirror_mode": {
    "name": "ipython",
    "version": 3
   },
   "file_extension": ".py",
   "mimetype": "text/x-python",
   "name": "python",
   "nbconvert_exporter": "python",
   "pygments_lexer": "ipython3",
   "version": "3.10.4"
  }
 },
 "nbformat": 4,
 "nbformat_minor": 5
}
