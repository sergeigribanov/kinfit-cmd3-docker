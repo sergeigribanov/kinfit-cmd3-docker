{
 "cells": [
  {
   "cell_type": "code",
   "execution_count": null,
   "id": "b58effad",
   "metadata": {},
   "outputs": [],
   "source": [
    "from run_kinfit import run_kinfit\n",
    "from draw_funcs import draw_1d_hist, draw_1d_hists, vertices_plot2, draw_2d_hist, draw_scatter\n",
    "from ROOT import TFile\n",
    "import matplotlib.pyplot as plt"
   ]
  },
  {
   "cell_type": "code",
   "execution_count": null,
   "id": "3a524ac9",
   "metadata": {},
   "outputs": [],
   "source": [
    "input_path = \"/var/kinfit/data/tr_ph_run049912.root\"\n",
    "output_path = \"kinfit_kskpi_run049912.root\""
   ]
  },
  {
   "cell_type": "code",
   "execution_count": null,
   "id": "2ce9f654",
   "metadata": {},
   "outputs": [],
   "source": [
    "run_kinfit(input_path, output_path=output_path, mfield=1.0)"
   ]
  },
  {
   "cell_type": "code",
   "execution_count": null,
   "id": "73cad60b",
   "metadata": {},
   "outputs": [],
   "source": [
    "fl = TFile.Open(output_path, 'read')"
   ]
  },
  {
   "cell_type": "code",
   "execution_count": null,
   "id": "52a4c9fc",
   "metadata": {},
   "outputs": [],
   "source": [
    "fl.kf_data.Draw(\"kf_err>>kf_err_kskpi(2,0,2)\", \"\", \"goff\")\n",
    "draw_1d_hist(\"kf_err_kskpi\", xlabel='error code')\n",
    "plt.savefig('kf_err_kskpi.eps')"
   ]
  },
  {
   "cell_type": "code",
   "execution_count": null,
   "id": "0eafb01d",
   "metadata": {},
   "outputs": [],
   "source": [
    "fl.kf_data.Draw(\"kf_chi2>>kf_chi2_kskpi(128,0,128)\", \"kf_err==0\", \"goff\")\n",
    "draw_1d_hist(\"kf_chi2_kskpi\", xlabel=r'$\\chi^2$')\n",
    "plt.savefig('kf_chi2_kskpi.eps')"
   ]
  },
  {
   "cell_type": "code",
   "execution_count": null,
   "id": "3f64349b",
   "metadata": {},
   "outputs": [],
   "source": [
    "fl.kf_data.Draw(\"in_mks>>in_mks(512,0.2,0.8)\", \"kf_err==0\", \"goff\")\n",
    "fl.kf_data.Draw(\"kf_mks>>kf_mks(512,0.2,0.8)\", \"kf_err==0\", \"goff\")\n",
    "draw_1d_hists([('in_mks', 'before kinematic fit'), ('kf_mks', 'after kinematic fit')], xlabel=r'$M_{\\pi^+\\pi^-}$ (GeV/c$^2$)')"
   ]
  },
  {
   "cell_type": "code",
   "execution_count": null,
   "id": "445d06f9",
   "metadata": {},
   "outputs": [],
   "source": [
    "fl.kf_data.Draw(\"kf_vtx0_x>>kf_vtx0_x(256, -10, 10)\", \"\", \"goff\")\n",
    "fl.kf_data.Draw(\"kf_vtx0_y>>kf_vtx0_y(256, -10, 10)\", \"\", \"goff\")\n",
    "fl.kf_data.Draw(\"kf_vtx0_z>>kf_vtx0_z(256, -10, 10)\", \"\", \"goff\")\n",
    "fl.kf_data.Draw(\"kf_vtx1_x>>kf_vtx1_x(256, -10, 10)\", \"\", \"goff\")\n",
    "fl.kf_data.Draw(\"kf_vtx1_y>>kf_vtx1_y(256, -10, 10)\", \"\", \"goff\")\n",
    "fl.kf_data.Draw(\"kf_vtx1_z>>kf_vtx1_z(256, -10, 10)\", \"\", \"goff\")\n",
    "vertices_plot2([['kf_vtx0_x', 'kf_vtx1_x'], \n",
    "               ['kf_vtx0_y', 'kf_vtx1_y'],\n",
    "               ['kf_vtx0_z', 'kf_vtx1_z']],\n",
    "                info_coords=(0.6, 0.6))"
   ]
  },
  {
   "cell_type": "code",
   "execution_count": null,
   "id": "134806fa",
   "metadata": {},
   "outputs": [],
   "source": [
    "fl.kf_data.Draw(\"kf_vtx_dr>>kf_vtx_dr(128, 0, 15)\", \"\", \"goff\")\n",
    "draw_1d_hist(\"kf_vtx_dr\", xlabel=r'$\\Delta r$ (cm)')\n",
    "plt.savefig('kf_vtx_dr_kskpi.eps')"
   ]
  },
  {
   "cell_type": "code",
   "execution_count": null,
   "id": "db5cd583",
   "metadata": {},
   "outputs": [],
   "source": [
    "fl.kf_data.Draw(\"kf_ks_decay_prod_angle>>kf_angle(32, 0, 3.14159)\", \"\", \"goff\")\n",
    "draw_1d_hist(\"kf_angle\", xlabel=r'$\\alpha$ (rad)')\n",
    "plt.savefig('kf_ks_prod_angle_kskpi.eps')"
   ]
  },
  {
   "cell_type": "code",
   "execution_count": null,
   "id": "7d273b45",
   "metadata": {},
   "outputs": [],
   "source": [
    "fl.kf_data.Draw(\"kf_vtx_drho>>kf_vtx_drho(128, 0, 15)\", \"\", \"goff\")\n",
    "draw_1d_hist(\"kf_vtx_drho\", xlabel=r'$\\Delta\\rho$ (cm)')\n",
    "plt.savefig('kf_vtx_drho_kskpi.eps')"
   ]
  },
  {
   "cell_type": "code",
   "execution_count": null,
   "id": "bab581f3",
   "metadata": {},
   "outputs": [],
   "source": [
    "fl.kf_data.Draw(\"kf_dedx_vtx0_K:kf_p_vtx0_K>>pdedx_K(256, 0, 0.8, 256, 0, 16000)\", \"kf_err==0\", \"goff\")\n",
    "draw_2d_hist('pdedx_K', xlabel=r'$P$ (GeV/c)', ylabel=r'$dE/dx$')"
   ]
  },
  {
   "cell_type": "code",
   "execution_count": null,
   "id": "bb00120b",
   "metadata": {},
   "outputs": [],
   "source": [
    "fl.kf_data.Draw(\"kf_dedx_vtx0_pi:kf_p_vtx0_pi>>pdedx_vtx0_pi(256, 0, 0.8, 256, 0, 16000)\", \"kf_err==0\", \"goff\")\n",
    "draw_2d_hist('pdedx_vtx0_pi', xlabel=r'$P$ (GeV/c)', ylabel=r'$dE/dx$')"
   ]
  },
  {
   "cell_type": "code",
   "execution_count": null,
   "id": "d3da7fef",
   "metadata": {},
   "outputs": [],
   "source": [
    "fl.kf_data.Draw(\"kf_dedx_vtx1_pi[0]:kf_p_vtx1_pi[0]>>pdedx_vtx1_pi(256, 0, 0.8, 256, 0, 16000)\", \"kf_err==0\", \"goff\")\n",
    "fl.kf_data.Draw(\"kf_dedx_vtx1_pi[1]:kf_p_vtx1_pi[1]>>+pdedx_vtx1_pi(256, 0, 0.8, 256, 0, 16000)\", \"kf_err==0\", \"goff\")\n",
    "draw_2d_hist('pdedx_vtx1_pi', xlabel=r'$P$ (MeV)', ylabel=r'$dE/dx$')"
   ]
  },
  {
   "cell_type": "code",
   "execution_count": null,
   "id": "5c6ec417",
   "metadata": {},
   "outputs": [],
   "source": [
    "fl.kf_data.Draw(\">>elist\", \"kf_err==0\", \"entryList\")\n",
    "draw_scatter('kf_data', 'elist', 'sim_vtx_dr', 'kf_vtx_dr', xlabel=r'$\\Delta r_{\\text{sim}}$ (cm)', ylabel=r'$\\Delta r_{\\text{kinfit}}$ (cm)')\n",
    "plt.savefig('kf_sim_vs_kf_dr.eps')"
   ]
  },
  {
   "cell_type": "code",
   "execution_count": null,
   "id": "cb71f44a",
   "metadata": {},
   "outputs": [],
   "source": [
    "fl.kf_data.Draw(\">>elist\", \"kf_err==0 && kf_chi2<100\", \"entryList\")\n",
    "draw_scatter('kf_data', 'elist', 'sim_vtx_dr', 'kf_vtx_dr', xlabel=r'$\\Delta r_{\\text{sim}}$ (cm)', ylabel=r'$\\Delta r_{\\text{kinfit}}$ (cm)')\n",
    "plt.savefig('kf_sim_vs_kf_dr_chi2_100.eps')"
   ]
  },
  {
   "cell_type": "code",
   "execution_count": null,
   "id": "a934d9d7",
   "metadata": {},
   "outputs": [],
   "source": [
    "fl.Close()"
   ]
  },
  {
   "cell_type": "code",
   "execution_count": null,
   "id": "41e0d253",
   "metadata": {},
   "outputs": [],
   "source": []
  }
 ],
 "metadata": {
  "kernelspec": {
   "display_name": "Python 3 (ipykernel)",
   "language": "python",
   "name": "python3"
  },
  "language_info": {
   "codemirror_mode": {
    "name": "ipython",
    "version": 3
   },
   "file_extension": ".py",
   "mimetype": "text/x-python",
   "name": "python",
   "nbconvert_exporter": "python",
   "pygments_lexer": "ipython3",
   "version": "3.10.4"
  }
 },
 "nbformat": 4,
 "nbformat_minor": 5
}
