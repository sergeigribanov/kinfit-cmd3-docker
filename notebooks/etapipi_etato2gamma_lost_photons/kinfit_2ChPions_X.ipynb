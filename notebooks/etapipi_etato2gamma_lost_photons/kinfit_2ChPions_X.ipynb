{
 "cells": [
  {
   "cell_type": "code",
   "execution_count": null,
   "id": "1d79964c",
   "metadata": {},
   "outputs": [],
   "source": [
    "from draw_funcs import draw_1d_hist, draw_1d_hists\n",
    "from ROOT import TFile\n",
    "import matplotlib.pyplot as plt"
   ]
  },
  {
   "cell_type": "code",
   "execution_count": null,
   "id": "7af82396",
   "metadata": {},
   "outputs": [],
   "source": [
    "%%bash\n",
    "rm -rf build\n",
    "rm -rf install\n",
    "mkdir build\n",
    "mkdir install\n",
    "cd build\n",
    "cmake -DCMAKE_INSTALL_PREFIX=../install ../source\n",
    "make -j8\n",
    "make install"
   ]
  },
  {
   "cell_type": "code",
   "execution_count": null,
   "id": "28f326ea",
   "metadata": {},
   "outputs": [],
   "source": [
    "mfield = 1.3\n",
    "input_path = '/var/kinfit/data/tr_ph_run021142_v5.root'\n",
    "output_path = 'kinfit_etapipi_etato2gamma_run021142.root'"
   ]
  },
  {
   "cell_type": "code",
   "execution_count": null,
   "id": "4d916338",
   "metadata": {},
   "outputs": [],
   "source": [
    "%%bash -s \"$input_path\" \"$output_path\" \"$mfield\"\n",
    "source install/bin/env.sh\n",
    "kf-2pix-run -i $1 -o $2 -m $3"
   ]
  },
  {
   "cell_type": "code",
   "execution_count": null,
   "id": "b2627b30",
   "metadata": {},
   "outputs": [],
   "source": [
    "fl = TFile.Open(output_path, 'read')"
   ]
  },
  {
   "cell_type": "code",
   "execution_count": null,
   "id": "519f7e5b",
   "metadata": {},
   "outputs": [],
   "source": [
    "fl.kf_data.Draw(\"kf_err>>kf_err(2,0,2)\", \"\", \"goff\")\n",
    "draw_1d_hist(\"kf_err\", xlabel='error code')\n",
    "plt.savefig('kf_error_2chpions_x.eps')"
   ]
  },
  {
   "cell_type": "code",
   "execution_count": null,
   "id": "5c4c0167",
   "metadata": {},
   "outputs": [],
   "source": [
    "fl.kf_data.Draw(\"kf_chi2>>kf_chi2(256,0,64)\", \"kf_err==0\", \"goff\")\n",
    "draw_1d_hist(\"kf_chi2\", xlabel=r'$\\chi^2$')\n",
    "plt.savefig('kf_chi2_etapipi_2chpions_x.eps')"
   ]
  },
  {
   "cell_type": "code",
   "execution_count": null,
   "id": "401066d4",
   "metadata": {},
   "outputs": [],
   "source": [
    "fl.kf_data.Draw(\"in_mpipi_missing>>in_mpipi_missing(512,0,1.2)\", \"kf_err==0\", \"goff\")\n",
    "fl.kf_data.Draw(\"kf_mpipi_missing>>kf_mpipi_missing(512,0,1.2)\", \"kf_err==0\", \"goff\")\n",
    "draw_1d_hists([('in_mpipi_missing', 'before kinematic fit'), ('kf_mpipi_missing', 'after kinematic fit')], xlabel=r'$M^{\\text{missing}}_{\\pi^+\\pi^-}$ (GeV/c$^2$)')"
   ]
  },
  {
   "cell_type": "code",
   "execution_count": null,
   "id": "d3d24239",
   "metadata": {},
   "outputs": [],
   "source": [
    "fl.kf_data.Draw(\"in_mpipi>>in_mpipi(512,0,1.8)\", \"kf_err==0\", \"goff\")\n",
    "fl.kf_data.Draw(\"kf_mpipi>>kf_mpipi(512,0,1.8)\", \"kf_err==0\", \"goff\")\n",
    "draw_1d_hists([('in_mpipi', 'before kinematic fit'), ('kf_mpipi', 'after kinematic fit')], xlabel=r'$M_{\\pi^+\\pi^-}$ (GeV/c$^2$)')"
   ]
  },
  {
   "cell_type": "code",
   "execution_count": null,
   "id": "57f92764",
   "metadata": {},
   "outputs": [],
   "source": [
    "fl.kf_data.Draw(\"kf_vtx_x>>kf_vtx_x(64, -1, 1)\", \"kf_err==0\", \"goff\")\n",
    "draw_1d_hist(\"kf_vtx_x\", xlabel=r'$x$ (cm)')\n",
    "plt.savefig('kf_vtx_x.eps')"
   ]
  },
  {
   "cell_type": "code",
   "execution_count": null,
   "id": "d854f5e0",
   "metadata": {},
   "outputs": [],
   "source": [
    "fl.kf_data.Draw(\"kf_vtx_y>>kf_vtx_y(64, -1, 1)\", \"kf_err==0\", \"goff\")\n",
    "draw_1d_hist(\"kf_vtx_y\", xlabel=r'$y$ (cm)')\n",
    "plt.savefig('kf_vtx_y.eps')"
   ]
  },
  {
   "cell_type": "code",
   "execution_count": null,
   "id": "1c38438c",
   "metadata": {},
   "outputs": [],
   "source": [
    "fl.kf_data.Draw(\"kf_vtx_z>>kf_vtx_z(64, -12, 12)\", \"kf_err==0\", \"goff\")\n",
    "draw_1d_hist(\"kf_vtx_z\", xlabel=r'$z$ (cm)')\n",
    "plt.savefig('kf_vtx_z.eps')"
   ]
  },
  {
   "cell_type": "code",
   "execution_count": null,
   "id": "70abfed1",
   "metadata": {},
   "outputs": [],
   "source": [
    "fl.Close()"
   ]
  },
  {
   "cell_type": "code",
   "execution_count": null,
   "id": "44e2e53e",
   "metadata": {},
   "outputs": [],
   "source": []
  }
 ],
 "metadata": {
  "kernelspec": {
   "display_name": "Python 3 (ipykernel)",
   "language": "python",
   "name": "python3"
  },
  "language_info": {
   "codemirror_mode": {
    "name": "ipython",
    "version": 3
   },
   "file_extension": ".py",
   "mimetype": "text/x-python",
   "name": "python",
   "nbconvert_exporter": "python",
   "pygments_lexer": "ipython3",
   "version": "3.10.4"
  }
 },
 "nbformat": 4,
 "nbformat_minor": 5
}
