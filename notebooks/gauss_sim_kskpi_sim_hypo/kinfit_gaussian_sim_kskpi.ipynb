{
 "cells": [
  {
   "cell_type": "code",
   "execution_count": 1,
   "id": "92ac8f6e",
   "metadata": {},
   "outputs": [
    {
     "name": "stdout",
     "output_type": "stream",
     "text": [
      "Welcome to JupyROOT 6.26/08\n"
     ]
    }
   ],
   "source": [
    "import ROOT\n",
    "from draw_funcs import draw_chi2_gaussian_sim, draw_1d_hist, draw_2d_hist2\n",
    "from ROOT import TFile\n",
    "import matplotlib.pyplot as plt"
   ]
  },
  {
   "cell_type": "code",
   "execution_count": 2,
   "id": "7658cd6e",
   "metadata": {},
   "outputs": [],
   "source": [
    "entry = 44\n",
    "nevents = 1000000\n",
    "mfield = 1.3\n",
    "input_path = \"/var/kinfit/data/tr_ph_run049912.root\"\n",
    "output_path = \"kinfit_gsim_kskpi_run049912.root\"\n",
    "# good 6\n",
    "# bad 39\n",
    "# ugly 44"
   ]
  },
  {
   "cell_type": "code",
   "execution_count": 3,
   "id": "a1672663",
   "metadata": {},
   "outputs": [],
   "source": [
    " %%bash\n",
    "    rm -f *.root"
   ]
  },
  {
   "cell_type": "code",
   "execution_count": 4,
   "id": "a107e174",
   "metadata": {},
   "outputs": [
    {
     "data": {
      "text/plain": [
       "0"
      ]
     },
     "execution_count": 4,
     "metadata": {},
     "output_type": "execute_result"
    },
    {
     "name": "stdout",
     "output_type": "stream",
     "text": [
      "(int) 0\n"
     ]
    }
   ],
   "source": [
    "ROOT.gInterpreter.ProcessLine('gROOT->LoadMacro(\"/home/hep/packages/gaussgen/share/gaussgen/rootlogon.C\")')"
   ]
  },
  {
   "cell_type": "code",
   "execution_count": 5,
   "id": "62d020ff",
   "metadata": {},
   "outputs": [
    {
     "data": {
      "text/plain": [
       "0"
      ]
     },
     "execution_count": 5,
     "metadata": {},
     "output_type": "execute_result"
    },
    {
     "name": "stdout",
     "output_type": "stream",
     "text": [
      "(int) 0\n"
     ]
    }
   ],
   "source": [
    "ROOT.gInterpreter.ProcessLine('gROOT->LoadMacro(\"/home/hep/packages/kfcmd/share/kfcmd/rootlogon.C\")')"
   ]
  },
  {
   "cell_type": "code",
   "execution_count": 6,
   "id": "cac4c447",
   "metadata": {},
   "outputs": [
    {
     "data": {
      "text/plain": [
       "0"
      ]
     },
     "execution_count": 6,
     "metadata": {},
     "output_type": "execute_result"
    },
    {
     "name": "stderr",
     "output_type": "stream",
     "text": [
      "Info in <TUnixSystem::ACLiC>: creating shared library /home/hep/workdir/notebooks/gauss_sim_kskpi_sim_hypo/TrPh_C.so\n"
     ]
    }
   ],
   "source": [
    "ROOT.gInterpreter.ProcessLine('.L TrPh.C++')\n",
    "# ROOT.gInterpreter.ProcessLine('.L TrPh_C.so')\n",
    "# ROOT.gInterpreter.ProcessLine('.L /home/hep/packages/root/lib/libMathMore.so')"
   ]
  },
  {
   "cell_type": "code",
   "execution_count": 7,
   "id": "17ccac93",
   "metadata": {},
   "outputs": [
    {
     "data": {
      "text/plain": [
       "140603163750440"
      ]
     },
     "execution_count": 7,
     "metadata": {},
     "output_type": "execute_result"
    },
    {
     "name": "stdout",
     "output_type": "stream",
     "text": [
      "(TFile &) Name: /var/kinfit/data/tr_ph_run049912.root Title: \n"
     ]
    }
   ],
   "source": [
    "ROOT.gInterpreter.ProcessLine('TFile fl(\"{}\", \"read\")'.format(input_path))"
   ]
  },
  {
   "cell_type": "code",
   "execution_count": 8,
   "id": "1227bd18",
   "metadata": {},
   "outputs": [
    {
     "data": {
      "text/plain": [
       "140602042130432"
      ]
     },
     "execution_count": 8,
     "metadata": {},
     "output_type": "execute_result"
    },
    {
     "name": "stdout",
     "output_type": "stream",
     "text": [
      "(TrPh &) @0x7fe076c6a000\n"
     ]
    }
   ],
   "source": [
    "ROOT.gInterpreter.ProcessLine('TrPh a(tr_ph)')"
   ]
  },
  {
   "cell_type": "code",
   "execution_count": 9,
   "id": "a63cae15",
   "metadata": {},
   "outputs": [
    {
     "data": {
      "text/plain": [
       "0"
      ]
     },
     "execution_count": 9,
     "metadata": {},
     "output_type": "execute_result"
    }
   ],
   "source": [
    "ROOT.gInterpreter.ProcessLine('a.setNEvents({})'.format(nevents))"
   ]
  },
  {
   "cell_type": "code",
   "execution_count": 10,
   "id": "42136d4c",
   "metadata": {},
   "outputs": [
    {
     "data": {
      "text/plain": [
       "0"
      ]
     },
     "execution_count": 10,
     "metadata": {},
     "output_type": "execute_result"
    }
   ],
   "source": [
    "ROOT.gInterpreter.ProcessLine('a.setEntry({})'.format(entry))"
   ]
  },
  {
   "cell_type": "code",
   "execution_count": 11,
   "id": "911d151b",
   "metadata": {},
   "outputs": [
    {
     "data": {
      "text/plain": [
       "0"
      ]
     },
     "execution_count": 11,
     "metadata": {},
     "output_type": "execute_result"
    },
    {
     "name": "stdout",
     "output_type": "stream",
     "text": [
      "sim hypo: KsK+pi-\n"
     ]
    }
   ],
   "source": [
    "ROOT.gInterpreter.ProcessLine('a.Loop(\"{output_path}\", {mfield})'.format(output_path=output_path, mfield=mfield))"
   ]
  },
  {
   "cell_type": "code",
   "execution_count": 12,
   "id": "299e14a7",
   "metadata": {},
   "outputs": [
    {
     "data": {
      "text/plain": [
       "0"
      ]
     },
     "execution_count": 12,
     "metadata": {},
     "output_type": "execute_result"
    }
   ],
   "source": [
    "ROOT.gInterpreter.ProcessLine('fl.Close()')"
   ]
  },
  {
   "cell_type": "code",
   "execution_count": 13,
   "id": "fd7b10b1",
   "metadata": {},
   "outputs": [],
   "source": [
    "fl = TFile.Open(output_path, 'read')"
   ]
  },
  {
   "cell_type": "code",
   "execution_count": 14,
   "id": "7dcd4dec",
   "metadata": {},
   "outputs": [
    {
     "data": {
      "text/plain": [
       "0"
      ]
     },
     "execution_count": 14,
     "metadata": {},
     "output_type": "execute_result"
    }
   ],
   "source": [
    "ROOT.gInterpreter.ProcessLine('''double fcn(double *x, double *p) {\n",
    "                                      return 0.546875 * p[0] * ROOT::Math::chisquared_pdf(x[0], p[1]);}''')\n",
    "# ROOT.gInterpreter.ProcessLine('''double fcn(double *x, double *p) {\n",
    "#                                        return 0.5 * p[0] * exp(-0.5 * (x[0] * p[3] + p[2])) *\n",
    "#                                        pow(x[0] * p[3] / p[2] , 0.25 * p[1] - 0.5) * \n",
    "#                                        ROOT::Math::cyl_bessel_i(0.5 * p[1] - 1., sqrt(p[2] * x[0] * p[3] ));}''')\n",
    "# ROOT.gInterpreter.ProcessLine('''double fcn(double *x, double *p) {\n",
    "#                                      return p[0] * ROOT::Math::noncentral_chisquared_pdf(x[0] * p[3], p[1], p[2]);}''')\n",
    "\n",
    "# ROOT.gInterpreter.ProcessLine('''double nonc_chi2_1(double x, double scale, double lambda) {\n",
    "# return scale * ROOT::Math::noncentral_chisquared_pdf(x * scale, 1., lambda);\n",
    "# }''')\n",
    "\n",
    "# ROOT.gInterpreter.ProcessLine('''double fcn(double *x, double *p) {\n",
    "# double result = 0.;\n",
    "# int di = 1;\n",
    "# for (int i = 0; i < 9; ++i) {\n",
    "#    result += nonc_chi2_1(x[0], p[i + di], );\n",
    "#     di += 2;\n",
    "# }\n",
    "# return p[0] * result;\n",
    "# }''')"
   ]
  },
  {
   "cell_type": "code",
   "execution_count": 15,
   "id": "716256b0",
   "metadata": {},
   "outputs": [
    {
     "data": {
      "text/plain": [
       "140603163751312"
      ]
     },
     "execution_count": 15,
     "metadata": {},
     "output_type": "execute_result"
    },
    {
     "name": "stdout",
     "output_type": "stream",
     "text": [
      "(TF1 &) Name: f0 Title: f0\n"
     ]
    }
   ],
   "source": [
    "ROOT.gInterpreter.ProcessLine('TF1 f0(\"f0\", fcn, 0, 50, 2)')"
   ]
  },
  {
   "cell_type": "code",
   "execution_count": 16,
   "id": "f2ebe8be",
   "metadata": {},
   "outputs": [],
   "source": [
    "# ROOT.gInterpreter.ProcessLine('f0.SetNpx(10000)')\n",
    "# ROOT.gInterpreter.ProcessLine('f0.SetParameter(0, 1.e+3)')\n",
    "# ROOT.gInterpreter.ProcessLine('''  int di = 1;\n",
    "# for (int i = 0; i < 9; ++i) {\n",
    "# f0.SetParameter(i + di, 1.);\n",
    "# f0.SetParameter(i + di + 1, 1.e-1);\n",
    "# f0.SetParLimits(i + di, 1.e-2, 1.e+2);\n",
    "# f0.SetParLimits(i + di + 1, 1.e-6, 3.e+2);\n",
    "# di += 2;\n",
    "# }\n",
    "# ''')"
   ]
  },
  {
   "cell_type": "code",
   "execution_count": 17,
   "id": "9f78b49b",
   "metadata": {},
   "outputs": [
    {
     "data": {
      "text/plain": [
       "0"
      ]
     },
     "execution_count": 17,
     "metadata": {},
     "output_type": "execute_result"
    }
   ],
   "source": [
    "ROOT.gInterpreter.ProcessLine('f0.SetNpx(10000)')\n",
    "ROOT.gInterpreter.ProcessLine('f0.SetParameter(0, 1.e+6)')\n",
    "ROOT.gInterpreter.ProcessLine('f0.SetParameter(1, 9)')\n",
    "\n",
    "# ROOT.gInterpreter.ProcessLine('f0.SetParLimits(1, 2, 300)')\n",
    "# ROOT.gInterpreter.ProcessLine('f0.FixParameter(1, 2)')\n",
    "# ROOT.gInterpreter.ProcessLine('f0.SetParameter(2, 50)')\n",
    "# ROOT.gInterpreter.ProcessLine('f0.SetParLimits(2, 0, 300)')\n",
    "# ROOT.gInterpreter.ProcessLine('f0.FixParameter(2, 0)')\n",
    "#ROOT.gInterpreter.ProcessLine('f0.SetParameter(3, 1.)')\n",
    "# ROOT.gInterpreter.ProcessLine('f0.SetParLimits(3, 1.e-2, 100)')"
   ]
  },
  {
   "cell_type": "code",
   "execution_count": 18,
   "id": "0bfa45d2",
   "metadata": {},
   "outputs": [
    {
     "data": {
      "text/plain": [
       "94083409686464"
      ]
     },
     "execution_count": 18,
     "metadata": {},
     "output_type": "execute_result"
    },
    {
     "name": "stdout",
     "output_type": "stream",
     "text": [
      " FCN=642756 FROM MIGRAD    STATUS=CONVERGED      57 CALLS          58 TOTAL\n",
      "                     EDM=5.93751e-07    STRATEGY= 1      ERROR MATRIX ACCURATE \n",
      "  EXT PARAMETER                                   STEP         FIRST   \n",
      "  NO.   NAME      VALUE            ERROR          SIZE      DERIVATIVE \n",
      "   1  p0           1.93675e+06   3.32673e+03   1.12931e+03  -3.21074e-07\n",
      "   2  p1           1.68299e+01   3.13837e-02   1.22914e-02   6.86015e-03\n",
      "(TFitResultPtr) <nullptr TFitResult>\n"
     ]
    },
    {
     "name": "stderr",
     "output_type": "stream",
     "text": [
      "Info in <TCanvas::MakeDefCanvas>:  created default TCanvas with name c1\n"
     ]
    }
   ],
   "source": [
    "ROOT.gInterpreter.ProcessLine('kf_chi2->Fit(&f0)')"
   ]
  },
  {
   "cell_type": "code",
   "execution_count": 24,
   "id": "d4afbea7",
   "metadata": {
    "scrolled": true
   },
   "outputs": [
    {
     "data": {
      "image/png": "[encoded data removed]",
      "text/plain": [
       "<Figure size 279.78x172.914 with 1 Axes>"
      ]
     },
     "metadata": {},
     "output_type": "display_data"
    }
   ],
   "source": [
    "draw_chi2_gaussian_sim(\"kf_chi2\", \"f0\", xlabel=r'$\\chi^2$', x_max=50.,\n",
    "                       ylabel='events',\n",
    "                    fraction=0.47,\n",
    "                    info_coords=(0.3, 0.3),\n",
    "                    dh=0.8, dw=-0.3,\n",
    "                    h_y=20000, h_x=100)\n",
    "plt.savefig('kf_chi2_gsim_kskpi_bad2.eps', bbox_inches='tight')"
   ]
  },
  {
   "cell_type": "code",
   "execution_count": 26,
   "id": "45246d9a",
   "metadata": {},
   "outputs": [
    {
     "data": {
      "image/png": "[encoded data removed]",
      "text/plain": [
       "<Figure size 279.78x172.914 with 1 Axes>"
      ]
     },
     "metadata": {},
     "output_type": "display_data"
    }
   ],
   "source": [
    "draw_1d_hist(\"qhist\", \n",
    "             xlabel=r'$\\frac{1}{2}\\Delta\\bm{y}^{\\intercal}\\hat{Q}\\Delta\\bm{y}$',\n",
    "            fraction=0.47,\n",
    "             ylabel='events',\n",
    "            info_coords=(0.4, 0.4),\n",
    "            h_y=5000, h_x=100)\n",
    "plt.gcf().subplots_adjust(bottom=0.285)\n",
    "plt.gcf().subplots_adjust(left=0.235)\n",
    "plt.savefig('qhalf_gsim_kskpi_bad2.eps')"
   ]
  },
  {
   "cell_type": "code",
   "execution_count": 37,
   "id": "bf9ebba8",
   "metadata": {},
   "outputs": [
    {
     "data": {
      "image/png": "[encoded data removed]",
      "text/plain": [
       "<Figure size 279.78x172.914 with 2 Axes>"
      ]
     },
     "metadata": {},
     "output_type": "display_data"
    }
   ],
   "source": [
    "import matplotlib.colors as colors\n",
    "import numpy as np\n",
    "bounds = np.linspace(0, 10, 16)\n",
    "norm = colors.BoundaryNorm(boundaries=bounds, ncolors=256)\n",
    "draw_2d_hist2('chi2_vs_q', \n",
    "              xlabel=r'$\\chi^2$', \n",
    "              ylabel=r'$\\frac{1}{2}\\Delta\\bm{y}^{\\intercal}\\hat{Q}\\Delta\\bm{y}$', \n",
    "              fraction=0.47,\n",
    "              bins=(200, 200),\n",
    "              norm=norm,\n",
    "              clip=((0, 400.), (-400., 400.)))\n",
    "plt.gcf().subplots_adjust(left=0.235)\n",
    "plt.gcf().subplots_adjust(bottom=0.26)\n",
    "plt.savefig('qhalf_vs_chi2_gsim_kskpi_bad2.eps')"
   ]
  },
  {
   "cell_type": "code",
   "execution_count": 22,
   "id": "dc333bb1",
   "metadata": {
    "scrolled": true
   },
   "outputs": [],
   "source": [
    "# fl.Close()"
   ]
  },
  {
   "cell_type": "code",
   "execution_count": null,
   "id": "ab1cd16a",
   "metadata": {},
   "outputs": [],
   "source": []
  }
 ],
 "metadata": {
  "kernelspec": {
   "display_name": "Python 3 (ipykernel)",
   "language": "python",
   "name": "python3"
  },
  "language_info": {
   "codemirror_mode": {
    "name": "ipython",
    "version": 3
   },
   "file_extension": ".py",
   "mimetype": "text/x-python",
   "name": "python",
   "nbconvert_exporter": "python",
   "pygments_lexer": "ipython3",
   "version": "3.10.8"
  }
 },
 "nbformat": 4,
 "nbformat_minor": 5
}
