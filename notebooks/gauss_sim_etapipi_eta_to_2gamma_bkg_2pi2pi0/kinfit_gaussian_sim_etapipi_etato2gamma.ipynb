{
 "cells": [
  {
   "cell_type": "code",
   "execution_count": 1,
   "id": "92ac8f6e",
   "metadata": {},
   "outputs": [
    {
     "name": "stdout",
     "output_type": "stream",
     "text": [
      "Welcome to JupyROOT 6.26/00\n"
     ]
    }
   ],
   "source": [
    "import ROOT\n",
    "from run_kinfit import build_custom_hypo\n",
    "from draw_funcs import draw_chi2_gaussian_sim\n",
    "from ROOT import TFile\n",
    "import matplotlib.pyplot as plt"
   ]
  },
  {
   "cell_type": "code",
   "execution_count": 2,
   "id": "7658cd6e",
   "metadata": {},
   "outputs": [],
   "source": [
    "entry = 2\n",
    "nevents = 40000\n",
    "mfield = 1.3\n",
    "input_path = '/var/kinfit/data/tr_ph_run053786.root'\n",
    "output_path = 'kinfit_etapipi_etato2gamma_2pi2pi0_bkg_run053786.root'\n"
   ]
  },
  {
   "cell_type": "code",
   "execution_count": 3,
   "id": "2be09ab3",
   "metadata": {},
   "outputs": [],
   "source": [
    "%%bash\n",
    "    rm -f *.root"
   ]
  },
  {
   "cell_type": "code",
   "execution_count": 4,
   "id": "a107e174",
   "metadata": {},
   "outputs": [
    {
     "data": {
      "text/plain": [
       "0"
      ]
     },
     "execution_count": 4,
     "metadata": {},
     "output_type": "execute_result"
    },
    {
     "name": "stdout",
     "output_type": "stream",
     "text": [
      "(int) 0\n"
     ]
    }
   ],
   "source": [
    "ROOT.gInterpreter.ProcessLine('gROOT->LoadMacro(\"/home/hep/packages/gaussgen/share/gaussgen/rootlogon.C\")')"
   ]
  },
  {
   "cell_type": "code",
   "execution_count": 5,
   "id": "62d020ff",
   "metadata": {},
   "outputs": [
    {
     "data": {
      "text/plain": [
       "0"
      ]
     },
     "execution_count": 5,
     "metadata": {},
     "output_type": "execute_result"
    },
    {
     "name": "stdout",
     "output_type": "stream",
     "text": [
      "(int) 0\n"
     ]
    }
   ],
   "source": [
    "ROOT.gInterpreter.ProcessLine('gROOT->LoadMacro(\"/home/hep/packages/kfcmd/share/kfcmd/rootlogon.C\")')"
   ]
  },
  {
   "cell_type": "code",
   "execution_count": 6,
   "id": "39a0efbd",
   "metadata": {},
   "outputs": [
    {
     "data": {
      "application/vnd.jupyter.widget-view+json": {
       "model_id": "adfec1752bc74595a901e165d8071967",
       "version_major": 2,
       "version_minor": 0
      },
      "text/plain": [
       "Output(layout=Layout(border='1px solid black'))"
      ]
     },
     "metadata": {},
     "output_type": "display_data"
    },
    {
     "name": "stdout",
     "output_type": "stream",
     "text": [
      "(int) 0\n"
     ]
    },
    {
     "name": "stderr",
     "output_type": "stream",
     "text": [
      "Info in <TUnixSystem::ACLiC>: creating shared library /home/hep/workdir/notebooks/gauss_sim_etapipi_eta_to_2gamma_bkg_2pi2pi0/Hypo2ChPions4Photons_cpp.so\n",
      "Warning in cling::IncrementalParser::CheckABICompatibility():\n",
      "  Possible C++ standard library mismatch, compiled with __GLIBCXX__ '20210728'\n",
      "  Extraction of runtime standard library version was: '20220506'\n"
     ]
    }
   ],
   "source": [
    "build_custom_hypo('Hypo2ChPions4Photons.cpp')"
   ]
  },
  {
   "cell_type": "code",
   "execution_count": 7,
   "id": "cac4c447",
   "metadata": {},
   "outputs": [
    {
     "data": {
      "text/plain": [
       "0"
      ]
     },
     "execution_count": 7,
     "metadata": {},
     "output_type": "execute_result"
    },
    {
     "name": "stderr",
     "output_type": "stream",
     "text": [
      "Info in <TUnixSystem::ACLiC>: creating shared library /home/hep/workdir/notebooks/gauss_sim_etapipi_eta_to_2gamma_bkg_2pi2pi0/TrPh_C.so\n",
      "Warning in cling::IncrementalParser::CheckABICompatibility():\n",
      "  Possible C++ standard library mismatch, compiled with __GLIBCXX__ '20210728'\n",
      "  Extraction of runtime standard library version was: '20220506'\n"
     ]
    }
   ],
   "source": [
    "ROOT.gInterpreter.ProcessLine('.L TrPh.C++')"
   ]
  },
  {
   "cell_type": "code",
   "execution_count": 8,
   "id": "17ccac93",
   "metadata": {},
   "outputs": [
    {
     "data": {
      "text/plain": [
       "140002700238888"
      ]
     },
     "execution_count": 8,
     "metadata": {},
     "output_type": "execute_result"
    },
    {
     "name": "stdout",
     "output_type": "stream",
     "text": [
      "(TFile &) Name: /var/kinfit/data/tr_ph_run053786.root Title: \n"
     ]
    }
   ],
   "source": [
    "ROOT.gInterpreter.ProcessLine('TFile fl(\"{}\", \"read\")'.format(input_path))"
   ]
  },
  {
   "cell_type": "code",
   "execution_count": 9,
   "id": "1227bd18",
   "metadata": {},
   "outputs": [
    {
     "data": {
      "text/plain": [
       "140000364597248"
      ]
     },
     "execution_count": 9,
     "metadata": {},
     "output_type": "execute_result"
    },
    {
     "name": "stdout",
     "output_type": "stream",
     "text": [
      "(TrPh &) @0x7f5460001000\n"
     ]
    }
   ],
   "source": [
    "ROOT.gInterpreter.ProcessLine('TrPh a(tr_ph)')"
   ]
  },
  {
   "cell_type": "code",
   "execution_count": 10,
   "id": "a63cae15",
   "metadata": {},
   "outputs": [
    {
     "data": {
      "text/plain": [
       "0"
      ]
     },
     "execution_count": 10,
     "metadata": {},
     "output_type": "execute_result"
    }
   ],
   "source": [
    "ROOT.gInterpreter.ProcessLine('a.setNEvents({})'.format(nevents))"
   ]
  },
  {
   "cell_type": "code",
   "execution_count": 11,
   "id": "42136d4c",
   "metadata": {},
   "outputs": [
    {
     "data": {
      "text/plain": [
       "0"
      ]
     },
     "execution_count": 11,
     "metadata": {},
     "output_type": "execute_result"
    }
   ],
   "source": [
    "ROOT.gInterpreter.ProcessLine('a.setEntry({})'.format(entry))"
   ]
  },
  {
   "cell_type": "code",
   "execution_count": 12,
   "id": "911d151b",
   "metadata": {},
   "outputs": [
    {
     "data": {
      "text/plain": [
       "0"
      ]
     },
     "execution_count": 12,
     "metadata": {},
     "output_type": "execute_result"
    }
   ],
   "source": [
    "ROOT.gInterpreter.ProcessLine('a.Loop(\"{output_path}\", {mfield})'.format(output_path=output_path, mfield=mfield))"
   ]
  },
  {
   "cell_type": "code",
   "execution_count": 13,
   "id": "299e14a7",
   "metadata": {},
   "outputs": [
    {
     "data": {
      "text/plain": [
       "0"
      ]
     },
     "execution_count": 13,
     "metadata": {},
     "output_type": "execute_result"
    }
   ],
   "source": [
    "ROOT.gInterpreter.ProcessLine('fl.Close()')"
   ]
  },
  {
   "cell_type": "code",
   "execution_count": 14,
   "id": "fd7b10b1",
   "metadata": {},
   "outputs": [],
   "source": [
    "fl = TFile.Open(output_path, 'read')"
   ]
  },
  {
   "cell_type": "code",
   "execution_count": 15,
   "id": "7dcd4dec",
   "metadata": {},
   "outputs": [
    {
     "data": {
      "text/plain": [
       "0"
      ]
     },
     "execution_count": 15,
     "metadata": {},
     "output_type": "execute_result"
    }
   ],
   "source": [
    "ROOT.gInterpreter.ProcessLine('''double fcn(double *x, double *p) {\n",
    "                                        return p[0] * ROOT::Math::chisquared_pdf(x[0], p[1]);}''')"
   ]
  },
  {
   "cell_type": "code",
   "execution_count": 16,
   "id": "716256b0",
   "metadata": {},
   "outputs": [
    {
     "data": {
      "text/plain": [
       "140002700239752"
      ]
     },
     "execution_count": 16,
     "metadata": {},
     "output_type": "execute_result"
    },
    {
     "name": "stdout",
     "output_type": "stream",
     "text": [
      "(TF1 &) Name: f0 Title: f0\n"
     ]
    }
   ],
   "source": [
    "ROOT.gInterpreter.ProcessLine('TF1 f0(\"f0\", fcn, 0, 30, 2)')"
   ]
  },
  {
   "cell_type": "code",
   "execution_count": 17,
   "id": "9f78b49b",
   "metadata": {},
   "outputs": [
    {
     "data": {
      "text/plain": [
       "0"
      ]
     },
     "execution_count": 17,
     "metadata": {},
     "output_type": "execute_result"
    }
   ],
   "source": [
    "ROOT.gInterpreter.ProcessLine('f0.SetNpx(10000)')\n",
    "ROOT.gInterpreter.ProcessLine('f0.SetParameter(0, 1.e+3)')\n",
    "ROOT.gInterpreter.ProcessLine('f0.SetParameter(1, 10)')"
   ]
  },
  {
   "cell_type": "code",
   "execution_count": 22,
   "id": "0bfa45d2",
   "metadata": {},
   "outputs": [
    {
     "data": {
      "text/plain": [
       "0"
      ]
     },
     "execution_count": 22,
     "metadata": {},
     "output_type": "execute_result"
    },
    {
     "data": {
      "image/png": "[encoded data removed]",
      "text/plain": [
       "<IPython.core.display.Image object>"
      ]
     },
     "metadata": {},
     "output_type": "display_data"
    }
   ],
   "source": [
    "# ROOT.gInterpreter.ProcessLine('kf_chi2->Fit(&f0)')\n",
    "ROOT.gInterpreter.ProcessLine('kf_chi2->Draw()')\n",
    "ROOT.gInterpreter.ProcessLine('c1->Draw()')"
   ]
  },
  {
   "cell_type": "code",
   "execution_count": 20,
   "id": "d4afbea7",
   "metadata": {
    "scrolled": true
   },
   "outputs": [
    {
     "ename": "ReferenceError",
     "evalue": "attempt to access a null-pointer",
     "output_type": "error",
     "traceback": [
      "\u001b[0;31m---------------------------------------------------------------------------\u001b[0m",
      "\u001b[0;31mReferenceError\u001b[0m                            Traceback (most recent call last)",
      "Input \u001b[0;32mIn [20]\u001b[0m, in \u001b[0;36m<cell line: 1>\u001b[0;34m()\u001b[0m\n\u001b[0;32m----> 1\u001b[0m \u001b[43mdraw_chi2_gaussian_sim\u001b[49m\u001b[43m(\u001b[49m\u001b[38;5;124;43m\"\u001b[39;49m\u001b[38;5;124;43mkf_chi2\u001b[39;49m\u001b[38;5;124;43m\"\u001b[39;49m\u001b[43m,\u001b[49m\u001b[43m \u001b[49m\u001b[38;5;124;43m\"\u001b[39;49m\u001b[38;5;124;43mf0\u001b[39;49m\u001b[38;5;124;43m\"\u001b[39;49m\u001b[43m,\u001b[49m\u001b[43m \u001b[49m\u001b[43mxlabel\u001b[49m\u001b[38;5;241;43m=\u001b[39;49m\u001b[38;5;124;43mr\u001b[39;49m\u001b[38;5;124;43m'\u001b[39;49m\u001b[38;5;124;43m$\u001b[39;49m\u001b[38;5;124;43m\\\u001b[39;49m\u001b[38;5;124;43mchi^2$\u001b[39;49m\u001b[38;5;124;43m'\u001b[39;49m\u001b[43m)\u001b[49m\n",
      "File \u001b[0;32m~/workdir/utils/draw_funcs.py:23\u001b[0m, in \u001b[0;36mfigure_style1.<locals>.wrapper\u001b[0;34m(*args, **kwargs)\u001b[0m\n\u001b[1;32m     21\u001b[0m kwargs[\u001b[38;5;124m'\u001b[39m\u001b[38;5;124mtextwidth\u001b[39m\u001b[38;5;124m'\u001b[39m] \u001b[38;5;241m=\u001b[39m \u001b[38;5;241m430.20639\u001b[39m \u001b[38;5;241m/\u001b[39m \u001b[38;5;241m72.27\u001b[39m\n\u001b[1;32m     22\u001b[0m kwargs[\u001b[38;5;124m'\u001b[39m\u001b[38;5;124mfontsize\u001b[39m\u001b[38;5;124m'\u001b[39m] \u001b[38;5;241m=\u001b[39m \u001b[38;5;241m11\u001b[39m\n\u001b[0;32m---> 23\u001b[0m \u001b[38;5;28;01mreturn\u001b[39;00m \u001b[43mfunc\u001b[49m\u001b[43m(\u001b[49m\u001b[38;5;241;43m*\u001b[39;49m\u001b[43margs\u001b[49m\u001b[43m,\u001b[49m\u001b[43m \u001b[49m\u001b[38;5;241;43m*\u001b[39;49m\u001b[38;5;241;43m*\u001b[39;49m\u001b[43mkwargs\u001b[49m\u001b[43m)\u001b[49m\n",
      "File \u001b[0;32m~/workdir/utils/draw_funcs.py:290\u001b[0m, in \u001b[0;36mdraw_chi2_gaussian_sim\u001b[0;34m(hist, tf1_fcn, xlabel, ylabel, fontsize, textwidth, fraction, info_coords, dh, dw, x_max)\u001b[0m\n\u001b[1;32m    288\u001b[0m f \u001b[38;5;241m=\u001b[39m np\u001b[38;5;241m.\u001b[39mvectorize(\u001b[38;5;28;01mlambda\u001b[39;00m x: tf1\u001b[38;5;241m.\u001b[39mEval(x))\n\u001b[1;32m    289\u001b[0m xv \u001b[38;5;241m=\u001b[39m np\u001b[38;5;241m.\u001b[39mlinspace(\u001b[38;5;241m1.e-3\u001b[39m, x_max, \u001b[38;5;241m10000\u001b[39m)\n\u001b[0;32m--> 290\u001b[0m yv \u001b[38;5;241m=\u001b[39m \u001b[43mf\u001b[49m\u001b[43m(\u001b[49m\u001b[43mxv\u001b[49m\u001b[43m)\u001b[49m\n\u001b[1;32m    291\u001b[0m ax\u001b[38;5;241m.\u001b[39mplot(xv, yv, linestyle\u001b[38;5;241m=\u001b[39m\u001b[38;5;124m'\u001b[39m\u001b[38;5;124m--\u001b[39m\u001b[38;5;124m'\u001b[39m, color\u001b[38;5;241m=\u001b[39m\u001b[38;5;124mu\u001b[39m\u001b[38;5;124m'\u001b[39m\u001b[38;5;124m#ff7f0e\u001b[39m\u001b[38;5;124m'\u001b[39m)\n\u001b[1;32m    292\u001b[0m props \u001b[38;5;241m=\u001b[39m \u001b[38;5;28mdict\u001b[39m(boxstyle\u001b[38;5;241m=\u001b[39m\u001b[38;5;124m'\u001b[39m\u001b[38;5;124msquare\u001b[39m\u001b[38;5;124m'\u001b[39m, facecolor\u001b[38;5;241m=\u001b[39m\u001b[38;5;124m'\u001b[39m\u001b[38;5;124mwhite\u001b[39m\u001b[38;5;124m'\u001b[39m, edgecolor\u001b[38;5;241m=\u001b[39m\u001b[38;5;124mu\u001b[39m\u001b[38;5;124m'\u001b[39m\u001b[38;5;124m#ff7f0e\u001b[39m\u001b[38;5;124m'\u001b[39m,\n\u001b[1;32m    293\u001b[0m              linestyle\u001b[38;5;241m=\u001b[39m\u001b[38;5;124m'\u001b[39m\u001b[38;5;124m--\u001b[39m\u001b[38;5;124m'\u001b[39m)\n",
      "File \u001b[0;32m~/pyenv/lib/python3.10/site-packages/numpy/lib/function_base.py:2304\u001b[0m, in \u001b[0;36mvectorize.__call__\u001b[0;34m(self, *args, **kwargs)\u001b[0m\n\u001b[1;32m   2301\u001b[0m     vargs \u001b[38;5;241m=\u001b[39m [args[_i] \u001b[38;5;28;01mfor\u001b[39;00m _i \u001b[38;5;129;01min\u001b[39;00m inds]\n\u001b[1;32m   2302\u001b[0m     vargs\u001b[38;5;241m.\u001b[39mextend([kwargs[_n] \u001b[38;5;28;01mfor\u001b[39;00m _n \u001b[38;5;129;01min\u001b[39;00m names])\n\u001b[0;32m-> 2304\u001b[0m \u001b[38;5;28;01mreturn\u001b[39;00m \u001b[38;5;28;43mself\u001b[39;49m\u001b[38;5;241;43m.\u001b[39;49m\u001b[43m_vectorize_call\u001b[49m\u001b[43m(\u001b[49m\u001b[43mfunc\u001b[49m\u001b[38;5;241;43m=\u001b[39;49m\u001b[43mfunc\u001b[49m\u001b[43m,\u001b[49m\u001b[43m \u001b[49m\u001b[43margs\u001b[49m\u001b[38;5;241;43m=\u001b[39;49m\u001b[43mvargs\u001b[49m\u001b[43m)\u001b[49m\n",
      "File \u001b[0;32m~/pyenv/lib/python3.10/site-packages/numpy/lib/function_base.py:2382\u001b[0m, in \u001b[0;36mvectorize._vectorize_call\u001b[0;34m(self, func, args)\u001b[0m\n\u001b[1;32m   2380\u001b[0m     res \u001b[38;5;241m=\u001b[39m func()\n\u001b[1;32m   2381\u001b[0m \u001b[38;5;28;01melse\u001b[39;00m:\n\u001b[0;32m-> 2382\u001b[0m     ufunc, otypes \u001b[38;5;241m=\u001b[39m \u001b[38;5;28;43mself\u001b[39;49m\u001b[38;5;241;43m.\u001b[39;49m\u001b[43m_get_ufunc_and_otypes\u001b[49m\u001b[43m(\u001b[49m\u001b[43mfunc\u001b[49m\u001b[38;5;241;43m=\u001b[39;49m\u001b[43mfunc\u001b[49m\u001b[43m,\u001b[49m\u001b[43m \u001b[49m\u001b[43margs\u001b[49m\u001b[38;5;241;43m=\u001b[39;49m\u001b[43margs\u001b[49m\u001b[43m)\u001b[49m\n\u001b[1;32m   2384\u001b[0m     \u001b[38;5;66;03m# Convert args to object arrays first\u001b[39;00m\n\u001b[1;32m   2385\u001b[0m     inputs \u001b[38;5;241m=\u001b[39m [asanyarray(a, dtype\u001b[38;5;241m=\u001b[39m\u001b[38;5;28mobject\u001b[39m) \u001b[38;5;28;01mfor\u001b[39;00m a \u001b[38;5;129;01min\u001b[39;00m args]\n",
      "File \u001b[0;32m~/pyenv/lib/python3.10/site-packages/numpy/lib/function_base.py:2342\u001b[0m, in \u001b[0;36mvectorize._get_ufunc_and_otypes\u001b[0;34m(self, func, args)\u001b[0m\n\u001b[1;32m   2338\u001b[0m     \u001b[38;5;28;01mraise\u001b[39;00m \u001b[38;5;167;01mValueError\u001b[39;00m(\u001b[38;5;124m'\u001b[39m\u001b[38;5;124mcannot call `vectorize` on size 0 inputs \u001b[39m\u001b[38;5;124m'\u001b[39m\n\u001b[1;32m   2339\u001b[0m                      \u001b[38;5;124m'\u001b[39m\u001b[38;5;124munless `otypes` is set\u001b[39m\u001b[38;5;124m'\u001b[39m)\n\u001b[1;32m   2341\u001b[0m inputs \u001b[38;5;241m=\u001b[39m [arg\u001b[38;5;241m.\u001b[39mflat[\u001b[38;5;241m0\u001b[39m] \u001b[38;5;28;01mfor\u001b[39;00m arg \u001b[38;5;129;01min\u001b[39;00m args]\n\u001b[0;32m-> 2342\u001b[0m outputs \u001b[38;5;241m=\u001b[39m \u001b[43mfunc\u001b[49m\u001b[43m(\u001b[49m\u001b[38;5;241;43m*\u001b[39;49m\u001b[43minputs\u001b[49m\u001b[43m)\u001b[49m\n\u001b[1;32m   2344\u001b[0m \u001b[38;5;66;03m# Performance note: profiling indicates that -- for simple\u001b[39;00m\n\u001b[1;32m   2345\u001b[0m \u001b[38;5;66;03m# functions at least -- this wrapping can almost double the\u001b[39;00m\n\u001b[1;32m   2346\u001b[0m \u001b[38;5;66;03m# execution time.\u001b[39;00m\n\u001b[1;32m   2347\u001b[0m \u001b[38;5;66;03m# Hence we make it optional.\u001b[39;00m\n\u001b[1;32m   2348\u001b[0m \u001b[38;5;28;01mif\u001b[39;00m \u001b[38;5;28mself\u001b[39m\u001b[38;5;241m.\u001b[39mcache:\n",
      "File \u001b[0;32m~/workdir/utils/draw_funcs.py:288\u001b[0m, in \u001b[0;36mdraw_chi2_gaussian_sim.<locals>.<lambda>\u001b[0;34m(x)\u001b[0m\n\u001b[1;32m    286\u001b[0m draw_hist_in_axis_(ax, hist, fontsize, info_coords)\n\u001b[1;32m    287\u001b[0m tf1 \u001b[38;5;241m=\u001b[39m gDirectory\u001b[38;5;241m.\u001b[39mGet(hist)\u001b[38;5;241m.\u001b[39mGetFunction(tf1_fcn)\n\u001b[0;32m--> 288\u001b[0m f \u001b[38;5;241m=\u001b[39m np\u001b[38;5;241m.\u001b[39mvectorize(\u001b[38;5;28;01mlambda\u001b[39;00m x: \u001b[43mtf1\u001b[49m\u001b[38;5;241;43m.\u001b[39;49m\u001b[43mEval\u001b[49m\u001b[43m(\u001b[49m\u001b[43mx\u001b[49m\u001b[43m)\u001b[49m)\n\u001b[1;32m    289\u001b[0m xv \u001b[38;5;241m=\u001b[39m np\u001b[38;5;241m.\u001b[39mlinspace(\u001b[38;5;241m1.e-3\u001b[39m, x_max, \u001b[38;5;241m10000\u001b[39m)\n\u001b[1;32m    290\u001b[0m yv \u001b[38;5;241m=\u001b[39m f(xv)\n",
      "\u001b[0;31mReferenceError\u001b[0m: attempt to access a null-pointer"
     ]
    },
    {
     "data": {
      "image/png": "[encoded data removed]",
      "text/plain": [
       "<Figure size 428.599x264.889 with 1 Axes>"
      ]
     },
     "metadata": {
      "needs_background": "light"
     },
     "output_type": "display_data"
    }
   ],
   "source": [
    "# draw_chi2_gaussian_sim(\"kf_chi2\", \"f0\", xlabel=r'$\\chi^2$')"
   ]
  },
  {
   "cell_type": "code",
   "execution_count": null,
   "id": "dc333bb1",
   "metadata": {
    "scrolled": true
   },
   "outputs": [],
   "source": [
    "fl.Close()"
   ]
  },
  {
   "cell_type": "code",
   "execution_count": null,
   "id": "ab1cd16a",
   "metadata": {},
   "outputs": [],
   "source": []
  }
 ],
 "metadata": {
  "kernelspec": {
   "display_name": "Python 3 (ipykernel)",
   "language": "python",
   "name": "python3"
  },
  "language_info": {
   "codemirror_mode": {
    "name": "ipython",
    "version": 3
   },
   "file_extension": ".py",
   "mimetype": "text/x-python",
   "name": "python",
   "nbconvert_exporter": "python",
   "pygments_lexer": "ipython3",
   "version": "3.10.5"
  }
 },
 "nbformat": 4,
 "nbformat_minor": 5
}
