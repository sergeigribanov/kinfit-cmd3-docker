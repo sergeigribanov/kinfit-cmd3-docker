{
 "cells": [
  {
   "cell_type": "code",
   "execution_count": null,
   "id": "89cd48ea",
   "metadata": {},
   "outputs": [],
   "source": [
    "from ROOT import TFile\n",
    "from draw_funcs import draw_1d_hist, draw_1d_hists\n",
    "import matplotlib.pyplot as plt"
   ]
  },
  {
   "cell_type": "code",
   "execution_count": null,
   "id": "667868fd",
   "metadata": {},
   "outputs": [],
   "source": [
    "%%bash \n",
    "source /home/hep/packages/KFCmd5PiTest/bin/env.sh \n",
    "kf5pi-run --ifname '/var/kinfit/data/tr_ph_run045864.root' --ofname 'kinfit_all_hypos_run045864.root' --mfield 1.3"
   ]
  },
  {
   "cell_type": "code",
   "execution_count": null,
   "id": "3007a448",
   "metadata": {
    "scrolled": true
   },
   "outputs": [],
   "source": [
    "fl = TFile('kinfit_all_hypos_run045864.root', 'read')"
   ]
  },
  {
   "cell_type": "code",
   "execution_count": null,
   "id": "d68edc03",
   "metadata": {
    "scrolled": true
   },
   "outputs": [],
   "source": [
    "fl.kf_data.Draw(\"kf_err_5pi>>kf_err_5pi(2,0,2)\", \"\", \"goff\")\n",
    "draw_1d_hist(\"kf_err_5pi\", xlabel='error')\n",
    "plt.savefig('kf_err_5pi.eps')"
   ]
  },
  {
   "cell_type": "code",
   "execution_count": null,
   "id": "5fc957ba",
   "metadata": {
    "scrolled": true
   },
   "outputs": [],
   "source": [
    "fl.kf_data.Draw(\"kf_chi2_5pi>>kf_chi2_5pi(600,0,600)\", \"kf_err_5pi==0\", \"goff\")\n",
    "draw_1d_hist(\"kf_chi2_5pi\", xlabel='$\\chi^2$')\n",
    "plt.savefig('kf_chi2_5pi.eps')"
   ]
  },
  {
   "cell_type": "code",
   "execution_count": null,
   "id": "de124c22",
   "metadata": {
    "scrolled": true
   },
   "outputs": [],
   "source": [
    "fl.kf_data.Draw(\"in_m3pi[]>>in_m3pi(512, 200, 1800)\", \"kf_err_5pi==0\", \"goff\")\n",
    "fl.kf_data.Draw(\"kf_m3pi[]>>kf_m3pi(512, 200, 1800)\", \"kf_err_5pi==0\", \"goff\")\n",
    "draw_1d_hists([('in_m3pi', 'before kinematic fit'), ('kf_m3pi', 'after kinematic fit')], \n",
    "              xlabel='$M_{\\pi^+\\pi^-\\pi^0}$ (MeV)', info_coords=(0.6, 0.4))\n",
    "plt.savefig('m3pi.eps')"
   ]
  },
  {
   "cell_type": "code",
   "execution_count": null,
   "id": "ed330580",
   "metadata": {},
   "outputs": [],
   "source": [
    "fl.kf_data.Draw(\"kf_err_4pi>>kf_err_4pi(2,0,2)\", \"\", \"goff\")\n",
    "draw_1d_hist(\"kf_err_4pi\", xlabel='error')\n",
    "plt.savefig('kf_err_4pi.eps')"
   ]
  },
  {
   "cell_type": "code",
   "execution_count": null,
   "id": "37f0241c",
   "metadata": {
    "scrolled": true
   },
   "outputs": [],
   "source": [
    "fl.kf_data.Draw(\"kf_chi2_4pi>>kf_chi2_4pi(254,0, 32768)\", \"kf_err_5pi==0\", \"goff\")\n",
    "draw_1d_hist(\"kf_chi2_4pi\", xlabel='$\\chi^2$')\n",
    "plt.savefig('kf_chi2_4pi.eps')"
   ]
  },
  {
   "cell_type": "code",
   "execution_count": null,
   "id": "74947ac2",
   "metadata": {
    "scrolled": true
   },
   "outputs": [],
   "source": [
    "fl.kf_data.Draw(\"kf_err_5pi_mpi0>>kf_err_5pi_mpi0(2,0,2)\", \"\", \"goff\")\n",
    "draw_1d_hist(\"kf_err_5pi_mpi0\", xlabel='error')\n",
    "plt.savefig('kf_err_5pi_mpi0.eps')"
   ]
  },
  {
   "cell_type": "code",
   "execution_count": null,
   "id": "3c7e954e",
   "metadata": {},
   "outputs": [],
   "source": [
    "fl.kf_data.Draw(\"kf_chi2_5pi_mpi0>>kf_chi2_5pi_mpi0(600,0, 600)\", \"kf_err_5pi==0\", \"goff\")\n",
    "draw_1d_hist(\"kf_chi2_5pi_mpi0\", xlabel='$\\chi^2$')\n",
    "plt.savefig('kf_chi2_5pi_mpi0.eps')"
   ]
  },
  {
   "cell_type": "code",
   "execution_count": null,
   "id": "58036546",
   "metadata": {},
   "outputs": [],
   "source": [
    "fl.Close()"
   ]
  }
 ],
 "metadata": {
  "kernelspec": {
   "display_name": "Python 3 (ipykernel)",
   "language": "python",
   "name": "python3"
  },
  "language_info": {
   "codemirror_mode": {
    "name": "ipython",
    "version": 3
   },
   "file_extension": ".py",
   "mimetype": "text/x-python",
   "name": "python",
   "nbconvert_exporter": "python",
   "pygments_lexer": "ipython3",
   "version": "3.10.4"
  }
 },
 "nbformat": 4,
 "nbformat_minor": 5
}
