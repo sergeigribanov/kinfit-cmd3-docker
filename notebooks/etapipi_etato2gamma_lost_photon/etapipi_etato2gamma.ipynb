{
 "cells": [
  {
   "cell_type": "code",
   "execution_count": null,
   "id": "44f437a2",
   "metadata": {
    "scrolled": true
   },
   "outputs": [],
   "source": [
    "from run_kinfit import run_kinfit\n",
    "from draw_funcs import draw_1d_hist, draw_1d_hists\n",
    "from ROOT import TFile\n",
    "import matplotlib.pyplot as plt"
   ]
  },
  {
   "cell_type": "code",
   "execution_count": null,
   "id": "0504b0c9",
   "metadata": {},
   "outputs": [],
   "source": [
    "input_path = '/var/kinfit/data/tr_ph_run021142_v5.root'\n",
    "output_path = 'kinfit_etapipi_etato2gamma_run021142.root'"
   ]
  },
  {
   "cell_type": "code",
   "execution_count": null,
   "id": "93146385",
   "metadata": {},
   "outputs": [],
   "source": [
    "run_kinfit(input_path, output_path=output_path)"
   ]
  },
  {
   "cell_type": "code",
   "execution_count": null,
   "id": "bd263659",
   "metadata": {
    "scrolled": true
   },
   "outputs": [],
   "source": [
    "fl = TFile.Open(output_path, 'read')"
   ]
  },
  {
   "cell_type": "code",
   "execution_count": null,
   "id": "a617a0a0",
   "metadata": {},
   "outputs": [],
   "source": [
    "fl.kf_data.Draw(\"kf_err>>kf_err(2,0,2)\", \"\", \"goff\")\n",
    "draw_1d_hist(\"kf_err\", xlabel='error code')\n",
    "plt.savefig('kf_error_etapipi_etato2gamma.eps')"
   ]
  },
  {
   "cell_type": "code",
   "execution_count": null,
   "id": "8c651bc0",
   "metadata": {},
   "outputs": [],
   "source": [
    "fl.kf_data.Draw(\"kf_chi2>>kf_chi2(128,0,128)\", \"kf_err==0\", \"goff\")\n",
    "draw_1d_hist(\"kf_chi2\", xlabel=r'$\\chi^2$')\n",
    "plt.savefig('kf_chi2_etapipi_etato2gamma.eps')"
   ]
  },
  {
   "cell_type": "code",
   "execution_count": null,
   "id": "d0d17e18",
   "metadata": {},
   "outputs": [],
   "source": [
    "fl.kf_data.Draw(\"in_mgg>>in_mgg(512,0,1.2)\", \"kf_err==0\", \"goff\")\n",
    "fl.kf_data.Draw(\"kf_mgg>>kf_mgg(512,0,1.2)\", \"kf_err==0\", \"goff\")\n",
    "draw_1d_hists([('in_mgg', 'before kinematic fit'), ('kf_mgg', 'after kinematic fit')], xlabel=r'$M_{\\gamma\\gamma}$ (GeV/c$^2$)')"
   ]
  },
  {
   "cell_type": "code",
   "execution_count": null,
   "id": "6130ff79",
   "metadata": {},
   "outputs": [],
   "source": [
    "fl.kf_data.Draw(\"in_mpipi>>in_mpipi(512,0,1.8)\", \"kf_err==0\", \"goff\")\n",
    "fl.kf_data.Draw(\"kf_mpipi>>kf_mpipi(512,0,1.8)\", \"kf_err==0\", \"goff\")\n",
    "draw_1d_hists([('in_mpipi', 'before kinematic fit'), ('kf_mpipi', 'after kinematic fit')], xlabel=r'$M_{\\pi^+\\pi^-}$ (GeV/c$^2$)')"
   ]
  },
  {
   "cell_type": "code",
   "execution_count": null,
   "id": "ca42a39d",
   "metadata": {},
   "outputs": [],
   "source": [
    "fl.kf_data.Draw(\"kf_vtx_x>>kf_vtx_x(64, -1, 1)\", \"kf_err==0\", \"goff\")\n",
    "draw_1d_hist(\"kf_vtx_x\", xlabel=r'$x$ (cm)')\n",
    "plt.savefig('kf_vtx_x.eps')"
   ]
  },
  {
   "cell_type": "code",
   "execution_count": null,
   "id": "0ddc73c7",
   "metadata": {},
   "outputs": [],
   "source": [
    "fl.kf_data.Draw(\"kf_vtx_y>>kf_vtx_y(64, -1, 1)\", \"kf_err==0\", \"goff\")\n",
    "draw_1d_hist(\"kf_vtx_y\", xlabel=r'$y$ (cm)')\n",
    "plt.savefig('kf_vtx_y.eps')"
   ]
  },
  {
   "cell_type": "code",
   "execution_count": null,
   "id": "d0a50063",
   "metadata": {},
   "outputs": [],
   "source": [
    "fl.kf_data.Draw(\"kf_vtx_z>>kf_vtx_z(64, -12, 12)\", \"kf_err==0\", \"goff\")\n",
    "draw_1d_hist(\"kf_vtx_z\", xlabel=r'$z$ (cm)')\n",
    "plt.savefig('kf_vtx_z.eps')"
   ]
  },
  {
   "cell_type": "code",
   "execution_count": null,
   "id": "e61ca688",
   "metadata": {},
   "outputs": [],
   "source": [
    "fl.kf_data.Draw(\"in_total_px>>in_total_px(128,-0.8,1.5)\", \"kf_err==0\", \"goff\")\n",
    "fl.kf_data.Draw(\"kf_total_px>>kf_total_px(128,-0.8,1.5)\", \"kf_err==0\", \"goff\")\n",
    "draw_1d_hists([('in_total_px', 'before kinematic fit'), ('kf_total_px', 'after kinematic fit')], xlabel=r'$p^{\\text{tot}}_x$ (GeV/c)', yscale='log')"
   ]
  },
  {
   "cell_type": "code",
   "execution_count": null,
   "id": "1e933631",
   "metadata": {},
   "outputs": [],
   "source": [
    "fl.kf_data.Draw(\"in_total_py>>in_total_py(128,-0.8,1.5)\", \"kf_err==0\", \"goff\")\n",
    "fl.kf_data.Draw(\"kf_total_py>>kf_total_py(128,-0.8,1.5)\", \"kf_err==0\", \"goff\")\n",
    "draw_1d_hists([('in_total_py', 'before kinematic fit'), ('kf_total_py', 'after kinematic fit')], xlabel=r'$p^{\\text{tot}}_y$ (GeV/c)', yscale='log')"
   ]
  },
  {
   "cell_type": "code",
   "execution_count": null,
   "id": "cf39164a",
   "metadata": {},
   "outputs": [],
   "source": [
    "fl.kf_data.Draw(\"in_total_pz>>in_total_pz(128,-1.0,2.0)\", \"kf_err==0\", \"goff\")\n",
    "fl.kf_data.Draw(\"kf_total_pz>>kf_total_pz(128,-1.0,2.0)\", \"kf_err==0\", \"goff\")\n",
    "draw_1d_hists([('in_total_pz', 'before kinematic fit'), ('kf_total_pz', 'after kinematic fit')], xlabel=r'$p^{\\text{tot}}_z$ (GeV/c)', yscale='log')"
   ]
  },
  {
   "cell_type": "code",
   "execution_count": null,
   "id": "bb03514d",
   "metadata": {},
   "outputs": [],
   "source": [
    "fl.kf_data.Draw(\"in_total_pe>>in_total_pe(128, 0, 5.0)\", \"kf_err==0\", \"goff\")\n",
    "fl.kf_data.Draw(\"kf_total_pe>>kf_total_pe(128, 0, 5.0)\", \"kf_err==0\", \"goff\")\n",
    "draw_1d_hists([('in_total_pe', 'before kinematic fit'), ('kf_total_pe', 'after kinematic fit')], xlabel=r'$E^{\\text{tot}}$ (GeV)', yscale='log')"
   ]
  },
  {
   "cell_type": "code",
   "execution_count": null,
   "id": "2c1b5ef8",
   "metadata": {},
   "outputs": [],
   "source": [
    "fl.Close()"
   ]
  },
  {
   "cell_type": "code",
   "execution_count": null,
   "id": "5eac6303",
   "metadata": {},
   "outputs": [],
   "source": []
  }
 ],
 "metadata": {
  "kernelspec": {
   "display_name": "Python 3 (ipykernel)",
   "language": "python",
   "name": "python3"
  },
  "language_info": {
   "codemirror_mode": {
    "name": "ipython",
    "version": 3
   },
   "file_extension": ".py",
   "mimetype": "text/x-python",
   "name": "python",
   "nbconvert_exporter": "python",
   "pygments_lexer": "ipython3",
   "version": "3.10.4"
  }
 },
 "nbformat": 4,
 "nbformat_minor": 5
}
