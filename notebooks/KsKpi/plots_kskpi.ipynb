{
 "cells": [
  {
   "cell_type": "code",
   "execution_count": null,
   "id": "551c6e6c",
   "metadata": {},
   "outputs": [],
   "source": [
    "from ROOT import TFile\n",
    "from draw_funcs import draw_1d_hist, draw_2d_hist, draw_1d_hists, vertices_plot2\n",
    "import matplotlib.pyplot as plt"
   ]
  },
  {
   "cell_type": "code",
   "execution_count": null,
   "id": "bcde155f",
   "metadata": {},
   "outputs": [],
   "source": [
    "path = 'kinfit_kskpi_run049912.root'"
   ]
  },
  {
   "cell_type": "code",
   "execution_count": null,
   "id": "983a9f2c",
   "metadata": {},
   "outputs": [],
   "source": [
    "fl = TFile.Open(path, 'read')"
   ]
  },
  {
   "cell_type": "code",
   "execution_count": null,
   "id": "881dd308",
   "metadata": {},
   "outputs": [],
   "source": [
    "fl.kf_data.Draw(\"kf_chi2>>kf_chi2_kskpi(600,0,600)\", \"\", \"goff\")\n",
    "draw_1d_hist(\"kf_chi2_kskpi\", xlabel='$\\chi^2$')\n",
    "plt.savefig('kf_chi2_kskpi.eps')"
   ]
  },
  {
   "cell_type": "code",
   "execution_count": null,
   "id": "3f9bae71",
   "metadata": {
    "scrolled": true
   },
   "outputs": [],
   "source": [
    "fl.kf_data.Draw(\"in_mks>>in_mks(512,0,1200)\", \"\", \"goff\")\n",
    "fl.kf_data.Draw(\"kf_mks>>kf_mks(512,0,1200)\", \"\", \"goff\")\n",
    "draw_1d_hists([('in_mks', 'before kinematic fit'), ('kf_mks', 'after kinematic fit')], xlabel='$M_{\\pi^+\\pi^-}$ (MeV)')"
   ]
  },
  {
   "cell_type": "code",
   "execution_count": null,
   "id": "331295cb",
   "metadata": {},
   "outputs": [],
   "source": [
    "fl.kf_data.Draw(\"kf_vtx0_x>>kf_vtx0_x(256, -10, 10)\", \"\", \"goff\")\n",
    "fl.kf_data.Draw(\"kf_vtx0_y>>kf_vtx0_y(256, -10, 10)\", \"\", \"goff\")\n",
    "fl.kf_data.Draw(\"kf_vtx0_z>>kf_vtx0_z(256, -10, 10)\", \"\", \"goff\")\n",
    "fl.kf_data.Draw(\"kf_vtx1_x>>kf_vtx1_x(256, -10, 10)\", \"\", \"goff\")\n",
    "fl.kf_data.Draw(\"kf_vtx1_y>>kf_vtx1_y(256, -10, 10)\", \"\", \"goff\")\n",
    "fl.kf_data.Draw(\"kf_vtx1_z>>kf_vtx1_z(256, -10, 10)\", \"\", \"goff\")\n",
    "vertices_plot2([['kf_vtx0_x', 'kf_vtx1_x'], \n",
    "               ['kf_vtx0_y', 'kf_vtx1_y'],\n",
    "               ['kf_vtx0_z', 'kf_vtx1_z']],\n",
    "                info_coords=(0.6, 0.6))"
   ]
  },
  {
   "cell_type": "code",
   "execution_count": null,
   "id": "4168fa43",
   "metadata": {},
   "outputs": [],
   "source": [
    "fl.kf_data.Draw(\"kf_vtx_dr>>kf_vtx_dr(256, 0, 20)\", \"\", \"goff\")\n",
    "draw_1d_hist(\"kf_vtx_dr\", xlabel='$dr$ (cm)')\n",
    "plt.savefig('kf_vtx_dr.eps')"
   ]
  },
  {
   "cell_type": "code",
   "execution_count": null,
   "id": "3ceb0604",
   "metadata": {},
   "outputs": [],
   "source": [
    "fl.kf_data.Draw(\"kf_vtx_drho>>kf_vtx_drho(256, 0, 20)\", \"\", \"goff\")\n",
    "draw_1d_hist(\"kf_vtx_drho\", xlabel='$drho$ (cm)')\n",
    "plt.savefig('kf_vtx_drho.eps')"
   ]
  },
  {
   "cell_type": "code",
   "execution_count": null,
   "id": "e39f9fa0",
   "metadata": {},
   "outputs": [],
   "source": [
    "fl.kf_data.Draw(\"kf_dedx_vtx0_K:kf_p_vtx0_K>>pdedx_K(256, 0, 800, 256, 0, 16000)\", \"\", \"goff\")\n",
    "draw_2d_hist('pdedx_K', xlabel='$P$ (MeV)', ylabel='$dE/dx$')"
   ]
  },
  {
   "cell_type": "code",
   "execution_count": null,
   "id": "865fd7be",
   "metadata": {},
   "outputs": [],
   "source": [
    "fl.kf_data.Draw(\"kf_dedx_vtx0_pi:kf_p_vtx0_pi>>pdedx_vtx0_pi(256, 0, 800, 256, 0, 16000)\", \"\", \"goff\")\n",
    "draw_2d_hist('pdedx_vtx0_pi', xlabel='$P$ (MeV)', ylabel='$dE/dx$')"
   ]
  },
  {
   "cell_type": "code",
   "execution_count": null,
   "id": "75ea9f9f",
   "metadata": {
    "scrolled": true
   },
   "outputs": [],
   "source": [
    "fl.kf_data.Draw(\"kf_dedx_vtx1_pi[0]:kf_p_vtx1_pi[0]>>pdedx_vtx1_pi(256, 0, 800, 256, 0, 16000)\", \"\", \"goff\")\n",
    "fl.kf_data.Draw(\"kf_dedx_vtx1_pi[1]:kf_p_vtx1_pi[1]>>+pdedx_vtx1_pi(256, 0, 800, 256, 0, 16000)\", \"\", \"goff\")\n",
    "draw_2d_hist('pdedx_vtx1_pi', xlabel='$P$ (MeV)', ylabel='$dE/dx$')"
   ]
  },
  {
   "cell_type": "code",
   "execution_count": null,
   "id": "ba631a29",
   "metadata": {},
   "outputs": [],
   "source": [
    "fl.Close()"
   ]
  },
  {
   "cell_type": "code",
   "execution_count": null,
   "id": "a385f8a2",
   "metadata": {},
   "outputs": [],
   "source": []
  }
 ],
 "metadata": {
  "kernelspec": {
   "display_name": "Python 3 (ipykernel)",
   "language": "python",
   "name": "python3"
  },
  "language_info": {
   "codemirror_mode": {
    "name": "ipython",
    "version": 3
   },
   "file_extension": ".py",
   "mimetype": "text/x-python",
   "name": "python",
   "nbconvert_exporter": "python",
   "pygments_lexer": "ipython3",
   "version": "3.10.4"
  }
 },
 "nbformat": 4,
 "nbformat_minor": 5
}
