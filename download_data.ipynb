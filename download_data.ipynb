{
 "cells": [
  {
   "cell_type": "code",
   "execution_count": null,
   "id": "4cb67b2b",
   "metadata": {},
   "outputs": [],
   "source": [
    "from data_load import load_tar"
   ]
  },
  {
   "cell_type": "code",
   "execution_count": null,
   "id": "f66f0a86",
   "metadata": {},
   "outputs": [],
   "source": [
    "load_tar('https://disk.yandex.ru/d/YKwqyx-GlnNRVQ', prefix='/var/kinfit')"
   ]
  },
  {
   "cell_type": "code",
   "execution_count": null,
   "id": "3a3bdced",
   "metadata": {},
   "outputs": [],
   "source": []
  }
 ],
 "metadata": {
  "kernelspec": {
   "display_name": "Python 3 (ipykernel)",
   "language": "python",
   "name": "python3"
  },
  "language_info": {
   "codemirror_mode": {
    "name": "ipython",
    "version": 3
   },
   "file_extension": ".py",
   "mimetype": "text/x-python",
   "name": "python",
   "nbconvert_exporter": "python",
   "pygments_lexer": "ipython3",
   "version": "3.10.4"
  }
 },
 "nbformat": 4,
 "nbformat_minor": 5
}
