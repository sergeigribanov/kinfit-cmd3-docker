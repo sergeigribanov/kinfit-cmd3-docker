{
 "cells": [
  {
   "cell_type": "code",
   "execution_count": null,
   "id": "e8a904e7",
   "metadata": {},
   "outputs": [],
   "source": [
    "from draw_funcs import draw_1d_hist, draw_1d_hists\n",
    "from ROOT import TFile\n",
    "import matplotlib.pyplot as plt"
   ]
  },
  {
   "cell_type": "code",
   "execution_count": null,
   "id": "1e0d9ca9",
   "metadata": {},
   "outputs": [],
   "source": [
    "%%bash\n",
    "rm -rf build\n",
    "rm -rf install\n",
    "mkdir build\n",
    "mkdir install\n",
    "cd build\n",
    "cmake -DCMAKE_INSTALL_PREFIX=../install ../source\n",
    "make -j8\n",
    "make install"
   ]
  },
  {
   "cell_type": "code",
   "execution_count": null,
   "id": "dc22332d",
   "metadata": {},
   "outputs": [],
   "source": [
    "mfield = 1.3\n",
    "input_path = '/var/kinfit/data/tr_ph_run026886_v5.root'\n",
    "output_path = 'kinfit_ksks2pi_run026886.root'"
   ]
  },
  {
   "cell_type": "code",
   "execution_count": null,
   "id": "16b3e321",
   "metadata": {},
   "outputs": [],
   "source": [
    "%%bash -s \"$input_path\" \"$output_path\" \"$mfield\"\n",
    "source install/bin/env.sh\n",
    "kf-2ks2pi-run -i $1 -o $2 -m $3"
   ]
  },
  {
   "cell_type": "code",
   "execution_count": null,
   "id": "befac378",
   "metadata": {},
   "outputs": [],
   "source": [
    "fl = TFile.Open(output_path, 'read')"
   ]
  },
  {
   "cell_type": "code",
   "execution_count": null,
   "id": "df667e83",
   "metadata": {},
   "outputs": [],
   "source": [
    "fl.kf_data.Draw(\"kf_err>>kf_err_kskpi(2,0,2)\", \"\", \"goff\")\n",
    "draw_1d_hist(\"kf_err_kskpi\", xlabel='error code')\n",
    "plt.savefig('kf_err_ksks2pi.eps')"
   ]
  },
  {
   "cell_type": "code",
   "execution_count": null,
   "id": "9075875d",
   "metadata": {},
   "outputs": [],
   "source": [
    "fl.kf_data.Draw(\"kf_chi2>>kf_chi2_kskpi(256,0,256)\", \"kf_err==0\", \"goff\")\n",
    "draw_1d_hist(\"kf_chi2_kskpi\", xlabel=r'$\\chi^2$')\n",
    "plt.savefig('kf_chi2_ksks2pi.eps')"
   ]
  },
  {
   "cell_type": "code",
   "execution_count": null,
   "id": "fc26be8f",
   "metadata": {},
   "outputs": [],
   "source": [
    "fl.kf_data.Draw(\"in_mks1>>in_mks1(512,0.3,0.7)\", \"kf_err==0\", \"goff\")\n",
    "fl.kf_data.Draw(\"kf_mks1>>kf_mks1(512,0.3,0.7)\", \"kf_err==0\", \"goff\")\n",
    "draw_1d_hists([('in_mks1', 'before kinematic fit'), ('kf_mks1', 'after kinematic fit')], xlabel=r'$M_{\\pi^+\\pi^-}$ (GeV/c$^2$)')"
   ]
  },
  {
   "cell_type": "code",
   "execution_count": null,
   "id": "fca12e70",
   "metadata": {},
   "outputs": [],
   "source": [
    "fl.kf_data.Draw(\"in_mks2>>in_mks2(512,0.3,0.7)\", \"kf_err==0\", \"goff\")\n",
    "fl.kf_data.Draw(\"kf_mks2>>kf_mks2(512,0.3,0.7)\", \"kf_err==0\", \"goff\")\n",
    "draw_1d_hists([('in_mks2', 'before kinematic fit'), ('kf_mks2', 'after kinematic fit')], xlabel=r'$M_{\\pi^+\\pi^-}$ (GeV/c$^2$)')"
   ]
  },
  {
   "cell_type": "code",
   "execution_count": null,
   "id": "c56ca3b9",
   "metadata": {},
   "outputs": [],
   "source": [
    "fl.kf_data.Draw(\"vtx1_dr>>kf_vtx1_dr(128, 0, 10)\", \"\", \"goff\")\n",
    "draw_1d_hist(\"kf_vtx1_dr\", xlabel=r'$\\Delta r_1$ (cm)')\n",
    "plt.savefig('kf_vtx_dr_ksks2pi.eps')"
   ]
  },
  {
   "cell_type": "code",
   "execution_count": null,
   "id": "264fefcf",
   "metadata": {},
   "outputs": [],
   "source": [
    "fl.kf_data.Draw(\"vtx2_dr>>kf_vtx2_dr(128, 0, 10)\", \"\", \"goff\")\n",
    "draw_1d_hist(\"kf_vtx2_dr\", xlabel=r'$\\Delta r_2$ (cm)')\n",
    "plt.savefig('kf_vtx_dr_ksks2pi.eps')"
   ]
  },
  {
   "cell_type": "code",
   "execution_count": null,
   "id": "b1b2c8e9",
   "metadata": {},
   "outputs": [],
   "source": [
    "fl.Close()"
   ]
  },
  {
   "cell_type": "code",
   "execution_count": null,
   "id": "443c3eab",
   "metadata": {},
   "outputs": [],
   "source": []
  }
 ],
 "metadata": {
  "kernelspec": {
   "display_name": "Python 3 (ipykernel)",
   "language": "python",
   "name": "python3"
  },
  "language_info": {
   "codemirror_mode": {
    "name": "ipython",
    "version": 3
   },
   "file_extension": ".py",
   "mimetype": "text/x-python",
   "name": "python",
   "nbconvert_exporter": "python",
   "pygments_lexer": "ipython3",
   "version": "3.10.4"
  }
 },
 "nbformat": 4,
 "nbformat_minor": 5
}
