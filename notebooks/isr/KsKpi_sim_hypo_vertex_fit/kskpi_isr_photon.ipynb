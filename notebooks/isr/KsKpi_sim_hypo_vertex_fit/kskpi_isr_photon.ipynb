{
 "cells": [
  {
   "cell_type": "code",
   "execution_count": null,
   "id": "b58effad",
   "metadata": {
    "scrolled": true
   },
   "outputs": [
    {
     "name": "stdout",
     "output_type": "stream",
     "text": [
      "Welcome to JupyROOT 6.26/08\n"
     ]
    }
   ],
   "source": [
    "from run_kinfit import run_kinfit, build_custom_hypo\n",
    "from draw_funcs import draw_1d_hist, draw_1d_hists, vertices_plot2, draw_2d_hist, draw_scatter\n",
    "from ROOT import TFile, TCanvas\n",
    "import matplotlib.pyplot as plt"
   ]
  },
  {
   "cell_type": "code",
   "execution_count": null,
   "id": "796d3419",
   "metadata": {},
   "outputs": [],
   "source": [
    "build_custom_hypo('HypoKsKMinusPiPlus_NoKsMass_ISR.cpp',\n",
    "                  rootlogon_path='/home/hep/packages/kfcmd_tr_ph_v8/share/kfcmd/rootlogon.C')"
   ]
  },
  {
   "cell_type": "code",
   "execution_count": null,
   "id": "c83a2a2f",
   "metadata": {},
   "outputs": [],
   "source": [
    "build_custom_hypo('HypoKsKPlusPiMinus_NoKsMass_ISR.cpp',\n",
    "                  rootlogon_path='/home/hep/packages/kfcmd_tr_ph_v8/share/kfcmd/rootlogon.C')"
   ]
  },
  {
   "cell_type": "code",
   "execution_count": null,
   "id": "3a524ac9",
   "metadata": {},
   "outputs": [],
   "source": [
    "input_path = \"/var/kinfit/data/tr_ph_run068706.root\"\n",
    "output_path = \"isr_run068706.root\""
   ]
  },
  {
   "cell_type": "code",
   "execution_count": null,
   "id": "2ce9f654",
   "metadata": {},
   "outputs": [],
   "source": [
    "run_kinfit(input_path, output_path=output_path, mfield=1.0,\n",
    "           tr_ph_path='TrPhISR.C',\n",
    "          rootlogon_path='/home/hep/packages/kfcmd_tr_ph_v8/share/kfcmd/rootlogon.C')\n",
    "# 21281\n",
    "# KsK+pi- 10174\n",
    "# KsK-pi+ 10345\n",
    "# KsKpi 20519"
   ]
  },
  {
   "cell_type": "code",
   "execution_count": null,
   "id": "73cad60b",
   "metadata": {},
   "outputs": [],
   "source": [
    "fl = TFile.Open(output_path, 'read')"
   ]
  },
  {
   "cell_type": "code",
   "execution_count": null,
   "id": "52a4c9fc",
   "metadata": {
    "scrolled": true
   },
   "outputs": [],
   "source": [
    "fl.kf_data.Draw(\"kf_err>>kf_err_kskpi(3,0,3)\", \"\", \"goff\")\n",
    "draw_1d_hist(\"kf_err_kskpi\", \n",
    "             xlabel='error code',\n",
    "            ylabel='events',\n",
    "             fraction=0.47,\n",
    "             info_coords=(0.3, 0.3),\n",
    "            h_y=4000, h_x=1)\n",
    "plt.savefig('kf_err_simhypo_xkpi_isr.eps')"
   ]
  },
  {
   "cell_type": "code",
   "execution_count": null,
   "id": "0eafb01d",
   "metadata": {},
   "outputs": [],
   "source": [
    "fl.kf_data.Draw(\"kf_chi2>>kf_chi2_kskpi(128,0,200)\", \"kf_err==0\", \"goff\")\n",
    "draw_1d_hist(\"kf_chi2_kskpi\", xlabel=r'$\\chi^2$',\n",
    "             ylabel='events',\n",
    "            fraction=0.47,\n",
    "             info_coords=(0.0,-1.0),\n",
    "            h_y=200, h_x=50)\n",
    "plt.savefig('kf_chi2_simhypo_xkpi_isr.eps', bbox_inches='tight')"
   ]
  },
  {
   "cell_type": "code",
   "execution_count": null,
   "id": "3f64349b",
   "metadata": {},
   "outputs": [],
   "source": [
    "fl.kf_data.Draw(\"in_mks>>in_mks(512,0.4,0.6)\", \"kf_err==0\", \"goff\")\n",
    "fl.kf_data.Draw(\"kf_mks>>kf_mks(512,0.4,0.6)\", \"kf_err==0\", \"goff\")\n",
    "draw_1d_hists([('in_mks', 'input'), \n",
    "               ('kf_mks', 'kinematic and vertex fit')], \n",
    "              xlabel=r'$M_{\\pi^+\\pi^-}$ (GeV/c$^2$)',\n",
    "              ylabel='events',\n",
    "              fraction=0.47,\n",
    "             info_coords=(-0.2, -1.0),\n",
    "            dh=0.0,\n",
    "             dw=0.7,\n",
    "             legend_loc='center right',\n",
    "             bbox_to_anchor=(0.65, 1.1, 0.4, 0.5),\n",
    "             h_y=200, h_x=0.05)\n",
    "plt.savefig('kf_mks_simhypo_xkpi_isr.eps',  bbox_inches='tight')"
   ]
  },
  {
   "cell_type": "code",
   "execution_count": null,
   "id": "445d06f9",
   "metadata": {},
   "outputs": [],
   "source": [
    "fl.kf_data.Draw(\"kf_vtx0[0]>>kf_vtx0_x(256, -10, 10)\", \"\", \"goff\")\n",
    "fl.kf_data.Draw(\"kf_vtx0[1]>>kf_vtx0_y(256, -10, 10)\", \"\", \"goff\")\n",
    "fl.kf_data.Draw(\"kf_vtx0[2]>>kf_vtx0_z(256, -10, 10)\", \"\", \"goff\")\n",
    "fl.kf_data.Draw(\"kf_vtx1[0]>>kf_vtx1_x(256, -10, 10)\", \"\", \"goff\")\n",
    "fl.kf_data.Draw(\"kf_vtx1[1]>>kf_vtx1_y(256, -10, 10)\", \"\", \"goff\")\n",
    "fl.kf_data.Draw(\"kf_vtx1[2]>>kf_vtx1_z(256, -10, 10)\", \"\", \"goff\")\n",
    "vertices_plot2([['kf_vtx0_x', 'kf_vtx1_x'], \n",
    "               ['kf_vtx0_y', 'kf_vtx1_y'],\n",
    "               ['kf_vtx0_z', 'kf_vtx1_z']],\n",
    "                info_coords=(0.6, 0.6))"
   ]
  },
  {
   "cell_type": "code",
   "execution_count": null,
   "id": "134806fa",
   "metadata": {},
   "outputs": [],
   "source": [
    "fl.kf_data.Draw(\"kf_vtx_dr>>kf_vtx_dr(128, 0, 15)\", \"kf_err==0\", \"goff\")\n",
    "draw_1d_hist(\"kf_vtx_dr\", \n",
    "             xlabel=r'$\\Delta r_{\\text{fit}}$ (cm)',\n",
    "            fraction=0.47,\n",
    "            info_coords=(0.3, 0.3))\n",
    "# plt.savefig('kf_vtx_dr_simhypo_xkpi.eps')"
   ]
  },
  {
   "cell_type": "code",
   "execution_count": null,
   "id": "35c16875",
   "metadata": {},
   "outputs": [],
   "source": [
    "cnv = TCanvas()\n",
    "fl.kf_data.Draw(\"kf_vtx_dr\", \"kf_err==0\")\n",
    "fl.kf_data.Draw(\"kf_vtx_dr\", \"kf_err==0 && numiters>6\", \"same\")\n",
    "cnv.Draw()"
   ]
  },
  {
   "cell_type": "code",
   "execution_count": null,
   "id": "7d273b45",
   "metadata": {},
   "outputs": [],
   "source": [
    "fl.kf_data.Draw(\"kf_vtx_drho>>kf_vtx_drho(128, 0, 15)\", \"\", \"goff\")\n",
    "draw_1d_hist(\"kf_vtx_drho\", xlabel=r'$\\Delta\\rho$ (cm)')\n",
    "plt.savefig('kf_vtx_drho_kskpi_isr.eps')"
   ]
  },
  {
   "cell_type": "code",
   "execution_count": null,
   "id": "bab581f3",
   "metadata": {
    "scrolled": true
   },
   "outputs": [],
   "source": [
    "fl.kf_data.Draw(\"kf_dedx_vtx0_K:kf_p_vtx0_K>>pdedx_K(256, 0, 0.8, 256, 0, 16000)\", \"kf_err==0\", \"goff\")\n",
    "draw_2d_hist('pdedx_K', xlabel=r'$P$ (GeV/c)', \n",
    "             ylabel=r'$dE/dx\\text{ (CU)}$',\n",
    "            fraction=0.47)\n",
    "plt.savefig('kf_dedx_p_K_from_vtx0_simhypo_xkpi_isr.eps')"
   ]
  },
  {
   "cell_type": "code",
   "execution_count": null,
   "id": "bb00120b",
   "metadata": {},
   "outputs": [],
   "source": [
    "fl.kf_data.Draw(\"kf_dedx_vtx0_pi:kf_p_vtx0_pi>>pdedx_vtx0_pi(256, 0, 0.8, 256, 0, 16000)\", \"kf_err==0\", \"goff\")\n",
    "draw_2d_hist('pdedx_vtx0_pi', xlabel=r'$P$ (GeV/c)', \n",
    "             ylabel=r'$dE/dx\\text{ (CU)}$',\n",
    "            fraction=0.47)\n",
    "plt.savefig('kf_dedx_p_pi_from_vtx0_simhypo_xkpi_isr.eps')"
   ]
  },
  {
   "cell_type": "code",
   "execution_count": null,
   "id": "d3da7fef",
   "metadata": {
    "scrolled": true
   },
   "outputs": [],
   "source": [
    "fl.kf_data.Draw(\"kf_dedx_vtx1_pi[0]:kf_p_vtx1_pi[0]>>pdedx_vtx1_pi(256, 0, 0.8, 256, 0, 16000)\", \"kf_err==0\", \"goff\")\n",
    "fl.kf_data.Draw(\"kf_dedx_vtx1_pi[1]:kf_p_vtx1_pi[1]>>+pdedx_vtx1_pi(256, 0, 0.8, 256, 0, 16000)\", \"kf_err==0\", \"goff\")\n",
    "draw_2d_hist('pdedx_vtx1_pi', xlabel=r'$P$ (GeV/c)', \n",
    "             ylabel=r'$dE/dx\\text{ (CU)}$',\n",
    "            fraction=0.47)\n",
    "plt.savefig('kf_dedx_p_pi_from_vtx1_simhypo_xkpi_isr.eps')"
   ]
  },
  {
   "cell_type": "code",
   "execution_count": null,
   "id": "c6ace008",
   "metadata": {},
   "outputs": [],
   "source": [
    "fl.kf_data.Draw(\"(kf_vtx_dr-sim_vtx_dr)>>kf_delta_dr(512, -2, 2)\", \"kf_err==0\", \"goff\")\n",
    "draw_1d_hist(\"kf_delta_dr\", \n",
    "             xlabel=r'$\\Delta r_{\\text{fit}}-\\Delta r_{\\text{sim}}$ (cm)',\n",
    "            fraction=0.8,\n",
    "            info_coords=(0.55, 0.5))\n",
    "plt.savefig('kf_sim_vs_kf_dr_1d_xkpi_isr.eps')"
   ]
  },
  {
   "cell_type": "code",
   "execution_count": null,
   "id": "5c6ec417",
   "metadata": {},
   "outputs": [],
   "source": [
    "fl.kf_data.Draw(\">>elist\", \"kf_err==0\", \"entryList\")\n",
    "draw_scatter('kf_data', 'elist', 'sim_vtx_dr', 'kf_vtx_dr', xlabel=r'$\\Delta r_{\\text{sim}}$ (cm)', ylabel=r'$\\Delta r_{\\text{kinfit}}$ (cm)')\n",
    "plt.savefig('kf_sim_vs_kf_dr_isr.eps')"
   ]
  },
  {
   "cell_type": "code",
   "execution_count": null,
   "id": "cb71f44a",
   "metadata": {},
   "outputs": [],
   "source": [
    "fl.kf_data.Draw(\">>elist\", \"kf_err==0 && kf_chi2<100\", \"entryList\")\n",
    "draw_scatter('kf_data', 'elist', 'sim_vtx_dr', 'kf_vtx_dr', xlabel=r'$\\Delta r_{\\text{sim}}$ (cm)', ylabel=r'$\\Delta r_{\\text{kinfit}}$ (cm)')\n",
    "plt.savefig('kf_sim_vs_kf_dr_chi2_100_isr.eps')"
   ]
  },
  {
   "cell_type": "code",
   "execution_count": null,
   "id": "7f213937",
   "metadata": {
    "scrolled": true
   },
   "outputs": [],
   "source": [
    "fl.kf_data.Draw(\"numiters>>numiters\", \"kf_err==0 && numiters==6\", \"goff\")\n",
    "draw_1d_hist(\"numiters\", xlabel=r'number of iterations')"
   ]
  },
  {
   "cell_type": "code",
   "execution_count": null,
   "id": "a934d9d7",
   "metadata": {},
   "outputs": [],
   "source": [
    "# fl.Close()"
   ]
  },
  {
   "cell_type": "code",
   "execution_count": null,
   "id": "41e0d253",
   "metadata": {},
   "outputs": [],
   "source": []
  }
 ],
 "metadata": {
  "kernelspec": {
   "display_name": "Python 3 (ipykernel)",
   "language": "python",
   "name": "python3"
  },
  "language_info": {
   "codemirror_mode": {
    "name": "ipython",
    "version": 3
   },
   "file_extension": ".py",
   "mimetype": "text/x-python",
   "name": "python",
   "nbconvert_exporter": "python",
   "pygments_lexer": "ipython3",
   "version": "3.10.8"
  }
 },
 "nbformat": 4,
 "nbformat_minor": 5
}
