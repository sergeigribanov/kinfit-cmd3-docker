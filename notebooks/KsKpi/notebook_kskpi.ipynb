{
 "cells": [
  {
   "cell_type": "code",
   "execution_count": null,
   "id": "5a8f3b4f",
   "metadata": {},
   "outputs": [],
   "source": [
    ".!cp /home/hep/packages/kfcmd/share/kfcmd/rootlogon.C ."
   ]
  },
  {
   "cell_type": "code",
   "execution_count": null,
   "id": "0a9b4acc",
   "metadata": {},
   "outputs": [],
   "source": [
    "gROOT->LoadMacro(\"rootlogon.C\")"
   ]
  },
  {
   "cell_type": "code",
   "execution_count": null,
   "id": "030d2c64",
   "metadata": {},
   "outputs": [],
   "source": [
    ".L TrPh.C++"
   ]
  },
  {
   "cell_type": "code",
   "execution_count": null,
   "id": "539a11f0",
   "metadata": {},
   "outputs": [],
   "source": [
    "auto fl = TFile::Open(\"/var/kinfit/data/tr_ph_run049912.root\", \"read\");"
   ]
  },
  {
   "cell_type": "code",
   "execution_count": null,
   "id": "2f0db90a",
   "metadata": {},
   "outputs": [],
   "source": [
    "TrPh a(tr_ph);\n",
    "a.Loop(\"kinfit_kskpi_run049912.root\", 1.0);\n",
    "fl->Close();"
   ]
  },
  {
   "cell_type": "code",
   "execution_count": null,
   "id": "a9b63fa8",
   "metadata": {},
   "outputs": [],
   "source": []
  }
 ],
 "metadata": {
  "kernelspec": {
   "display_name": "ROOT C++",
   "language": "c++",
   "name": "root"
  },
  "language_info": {
   "codemirror_mode": "text/x-c++src",
   "file_extension": ".C",
   "mimetype": " text/x-c++src",
   "name": "c++"
  }
 },
 "nbformat": 4,
 "nbformat_minor": 5
}
