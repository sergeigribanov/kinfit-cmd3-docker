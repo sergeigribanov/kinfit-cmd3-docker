{
 "cells": [
  {
   "cell_type": "code",
   "execution_count": null,
   "id": "940a5af2",
   "metadata": {},
   "outputs": [],
   "source": [
    "from run_kinfit import run_kinfit\n",
    "from draw_funcs import draw_1d_hist, draw_1d_hists, vertices_plot2\n",
    "from ROOT import TFile\n",
    "import matplotlib.pyplot as plt"
   ]
  },
  {
   "cell_type": "code",
   "execution_count": null,
   "id": "9ab97547",
   "metadata": {},
   "outputs": [],
   "source": [
    "input_path = '/var/kinfit/data/tr_ph_run012838_v3.root'\n",
    "output_path = 'kinfit_kskl_run012838.root'"
   ]
  },
  {
   "cell_type": "code",
   "execution_count": null,
   "id": "ed96fa5e",
   "metadata": {},
   "outputs": [],
   "source": [
    "run_kinfit(input_path, output_path=output_path)"
   ]
  },
  {
   "cell_type": "code",
   "execution_count": null,
   "id": "72ad07b4",
   "metadata": {},
   "outputs": [],
   "source": [
    "fl = TFile.Open(output_path, 'read')"
   ]
  },
  {
   "cell_type": "code",
   "execution_count": null,
   "id": "2e19c781",
   "metadata": {},
   "outputs": [],
   "source": [
    "fl.kf_data.Draw(\"kf_err>>kf_err(2,0,2)\", \"\", \"goff\")\n",
    "draw_1d_hist(\"kf_err\", xlabel='error code')\n",
    "plt.savefig('kf_error_kskl.eps')"
   ]
  },
  {
   "cell_type": "code",
   "execution_count": null,
   "id": "5e67d9bf",
   "metadata": {},
   "outputs": [],
   "source": [
    "fl.kf_data.Draw(\"kf_chi2>>kf_chi2(256,0,64)\", \"kf_err==0\", \"goff\")\n",
    "draw_1d_hist(\"kf_chi2\", xlabel=r'$\\chi^2$')\n",
    "plt.savefig('kf_chi2_kskl.eps')"
   ]
  },
  {
   "cell_type": "code",
   "execution_count": null,
   "id": "b5dfbd9d",
   "metadata": {},
   "outputs": [],
   "source": [
    "fl.kf_data.Draw(\"in_mks>>in_mks(512,0.4,0.6)\", \"kf_err==0\", \"goff\")\n",
    "fl.kf_data.Draw(\"kf_mks>>kf_mks(512,0.4,0.6)\", \"kf_err==0\", \"goff\")\n",
    "draw_1d_hists([('in_mks', 'before kinematic fit'), ('kf_mks', 'after kinematic fit')], xlabel=r'$M_{\\pi^+\\pi^-}$ (GeV/c$^2$)')"
   ]
  },
  {
   "cell_type": "code",
   "execution_count": null,
   "id": "ef186e9b",
   "metadata": {},
   "outputs": [],
   "source": [
    "fl.kf_data.Draw(\"kf_vtx0_x>>kf_vtx0_x(256, -10, 10)\", \"\", \"goff\")\n",
    "fl.kf_data.Draw(\"kf_vtx0_y>>kf_vtx0_y(256, -10, 10)\", \"\", \"goff\")\n",
    "fl.kf_data.Draw(\"kf_vtx0_z>>kf_vtx0_z(256, -10, 10)\", \"\", \"goff\")\n",
    "fl.kf_data.Draw(\"kf_vtx1_x>>kf_vtx1_x(256, -10, 10)\", \"\", \"goff\")\n",
    "fl.kf_data.Draw(\"kf_vtx1_y>>kf_vtx1_y(256, -10, 10)\", \"\", \"goff\")\n",
    "fl.kf_data.Draw(\"kf_vtx1_z>>kf_vtx1_z(256, -10, 10)\", \"\", \"goff\")\n",
    "vertices_plot2([['kf_vtx0_x', 'kf_vtx1_x'], \n",
    "               ['kf_vtx0_y', 'kf_vtx1_y'],\n",
    "               ['kf_vtx0_z', 'kf_vtx1_z']],\n",
    "                info_coords=(0.6, 0.6))"
   ]
  },
  {
   "cell_type": "code",
   "execution_count": null,
   "id": "96890715",
   "metadata": {},
   "outputs": [],
   "source": [
    "fl.kf_data.Draw(\"kf_vtx_dr>>kf_vtx_dr(128, 0, 15)\", \"\", \"goff\")\n",
    "draw_1d_hist(\"kf_vtx_dr\", xlabel=r'$\\Delta r$ (cm)')\n",
    "plt.savefig('kf_vtx_dr_kskl.eps')"
   ]
  },
  {
   "cell_type": "code",
   "execution_count": null,
   "id": "6de2ef7c",
   "metadata": {},
   "outputs": [],
   "source": [
    "fl.Close()"
   ]
  },
  {
   "cell_type": "code",
   "execution_count": null,
   "id": "82166984",
   "metadata": {},
   "outputs": [],
   "source": []
  }
 ],
 "metadata": {
  "kernelspec": {
   "display_name": "Python 3 (ipykernel)",
   "language": "python",
   "name": "python3"
  },
  "language_info": {
   "codemirror_mode": {
    "name": "ipython",
    "version": 3
   },
   "file_extension": ".py",
   "mimetype": "text/x-python",
   "name": "python",
   "nbconvert_exporter": "python",
   "pygments_lexer": "ipython3",
   "version": "3.10.4"
  }
 },
 "nbformat": 4,
 "nbformat_minor": 5
}
