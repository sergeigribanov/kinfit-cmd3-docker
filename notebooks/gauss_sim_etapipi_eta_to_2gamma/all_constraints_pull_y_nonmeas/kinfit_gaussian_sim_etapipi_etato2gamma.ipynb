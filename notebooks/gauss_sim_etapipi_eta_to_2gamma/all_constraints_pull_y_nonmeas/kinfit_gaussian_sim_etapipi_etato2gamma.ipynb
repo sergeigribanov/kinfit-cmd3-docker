{
 "cells": [
  {
   "cell_type": "code",
   "execution_count": 1,
   "id": "92ac8f6e",
   "metadata": {},
   "outputs": [
    {
     "name": "stdout",
     "output_type": "stream",
     "text": [
      "Welcome to JupyROOT 6.26/08\n"
     ]
    }
   ],
   "source": [
    "import ROOT\n",
    "from draw_funcs import draw_chi2_gaussian_sim, draw_1d_hist, draw_2d_hist2\n",
    "from ROOT import TFile\n",
    "import matplotlib.pyplot as plt"
   ]
  },
  {
   "cell_type": "code",
   "execution_count": 2,
   "id": "7658cd6e",
   "metadata": {},
   "outputs": [],
   "source": [
    "entry = 6\n",
    "nevents = 1000000\n",
    "mfield = 1.3\n",
    "input_path = '/var/kinfit/data/tr_ph_run021142.root'\n",
    "output_path = 'kinfit_gaussian_fit_etapipi_etato2gamma_run021142.root'"
   ]
  },
  {
   "cell_type": "code",
   "execution_count": 3,
   "id": "a107e174",
   "metadata": {},
   "outputs": [
    {
     "data": {
      "text/plain": [
       "0"
      ]
     },
     "execution_count": 3,
     "metadata": {},
     "output_type": "execute_result"
    },
    {
     "name": "stdout",
     "output_type": "stream",
     "text": [
      "(int) 0\n"
     ]
    }
   ],
   "source": [
    "ROOT.gInterpreter.ProcessLine('gROOT->LoadMacro(\"/home/hep/packages/gaussgen/share/gaussgen/rootlogon.C\")')"
   ]
  },
  {
   "cell_type": "code",
   "execution_count": 4,
   "id": "62d020ff",
   "metadata": {},
   "outputs": [
    {
     "data": {
      "text/plain": [
       "0"
      ]
     },
     "execution_count": 4,
     "metadata": {},
     "output_type": "execute_result"
    },
    {
     "name": "stdout",
     "output_type": "stream",
     "text": [
      "(int) 0\n"
     ]
    }
   ],
   "source": [
    "ROOT.gInterpreter.ProcessLine('gROOT->LoadMacro(\"/home/hep/packages/kfcmd/share/kfcmd/rootlogon.C\")')"
   ]
  },
  {
   "cell_type": "code",
   "execution_count": 5,
   "id": "cac4c447",
   "metadata": {},
   "outputs": [
    {
     "data": {
      "text/plain": [
       "0"
      ]
     },
     "execution_count": 5,
     "metadata": {},
     "output_type": "execute_result"
    },
    {
     "name": "stderr",
     "output_type": "stream",
     "text": [
      "Info in <TUnixSystem::ACLiC>: creating shared library /home/hep/workdir/notebooks/gauss_sim_etapipi_eta_to_2gamma/all_constraints_pull_y_nonmeas/TrPh_C.so\n"
     ]
    }
   ],
   "source": [
    "ROOT.gInterpreter.ProcessLine('.L TrPh.C++')"
   ]
  },
  {
   "cell_type": "code",
   "execution_count": 6,
   "id": "17ccac93",
   "metadata": {},
   "outputs": [
    {
     "data": {
      "text/plain": [
       "140513803714600"
      ]
     },
     "execution_count": 6,
     "metadata": {},
     "output_type": "execute_result"
    },
    {
     "name": "stdout",
     "output_type": "stream",
     "text": [
      "(TFile &) Name: /var/kinfit/data/tr_ph_run021142.root Title: \n"
     ]
    }
   ],
   "source": [
    "ROOT.gInterpreter.ProcessLine('TFile fl(\"{}\", \"read\")'.format(input_path))"
   ]
  },
  {
   "cell_type": "code",
   "execution_count": 7,
   "id": "1227bd18",
   "metadata": {},
   "outputs": [
    {
     "data": {
      "text/plain": [
       "140511940665344"
      ]
     },
     "execution_count": 7,
     "metadata": {},
     "output_type": "execute_result"
    },
    {
     "name": "stdout",
     "output_type": "stream",
     "text": [
      "(TrPh &) @0x7fcb7c4f6000\n"
     ]
    }
   ],
   "source": [
    "ROOT.gInterpreter.ProcessLine('TrPh a(tr_ph)')"
   ]
  },
  {
   "cell_type": "code",
   "execution_count": 8,
   "id": "a63cae15",
   "metadata": {},
   "outputs": [
    {
     "data": {
      "text/plain": [
       "0"
      ]
     },
     "execution_count": 8,
     "metadata": {},
     "output_type": "execute_result"
    }
   ],
   "source": [
    "ROOT.gInterpreter.ProcessLine('a.setNEvents({})'.format(nevents))"
   ]
  },
  {
   "cell_type": "code",
   "execution_count": 9,
   "id": "42136d4c",
   "metadata": {},
   "outputs": [
    {
     "data": {
      "text/plain": [
       "0"
      ]
     },
     "execution_count": 9,
     "metadata": {},
     "output_type": "execute_result"
    }
   ],
   "source": [
    "ROOT.gInterpreter.ProcessLine('a.setEntry({})'.format(entry))"
   ]
  },
  {
   "cell_type": "code",
   "execution_count": 10,
   "id": "911d151b",
   "metadata": {},
   "outputs": [
    {
     "data": {
      "text/plain": [
       "0"
      ]
     },
     "execution_count": 10,
     "metadata": {},
     "output_type": "execute_result"
    }
   ],
   "source": [
    "ROOT.gInterpreter.ProcessLine('a.Loop(\"{output_path}\", {mfield})'.format(output_path=output_path, mfield=mfield))"
   ]
  },
  {
   "cell_type": "code",
   "execution_count": 11,
   "id": "299e14a7",
   "metadata": {},
   "outputs": [
    {
     "data": {
      "text/plain": [
       "0"
      ]
     },
     "execution_count": 11,
     "metadata": {},
     "output_type": "execute_result"
    }
   ],
   "source": [
    "ROOT.gInterpreter.ProcessLine('fl.Close()')"
   ]
  },
  {
   "cell_type": "code",
   "execution_count": 12,
   "id": "fd7b10b1",
   "metadata": {},
   "outputs": [],
   "source": [
    "fl = TFile.Open(output_path, 'read')"
   ]
  },
  {
   "cell_type": "code",
   "execution_count": 13,
   "id": "7dcd4dec",
   "metadata": {},
   "outputs": [
    {
     "data": {
      "text/plain": [
       "0"
      ]
     },
     "execution_count": 13,
     "metadata": {},
     "output_type": "execute_result"
    }
   ],
   "source": [
    "ROOT.gInterpreter.ProcessLine('''double fcn(double *x, double *p) {\n",
    "                                        return 0.1875 * p[0] * ROOT::Math::chisquared_pdf(x[0], p[1]);}''')"
   ]
  },
  {
   "cell_type": "code",
   "execution_count": 14,
   "id": "716256b0",
   "metadata": {},
   "outputs": [
    {
     "data": {
      "text/plain": [
       "140513803715472"
      ]
     },
     "execution_count": 14,
     "metadata": {},
     "output_type": "execute_result"
    },
    {
     "name": "stdout",
     "output_type": "stream",
     "text": [
      "(TF1 &) Name: f0 Title: f0\n"
     ]
    }
   ],
   "source": [
    "ROOT.gInterpreter.ProcessLine('TF1 f0(\"f0\", fcn, 0, 24, 2)')"
   ]
  },
  {
   "cell_type": "code",
   "execution_count": 15,
   "id": "9f78b49b",
   "metadata": {},
   "outputs": [
    {
     "data": {
      "text/plain": [
       "0"
      ]
     },
     "execution_count": 15,
     "metadata": {},
     "output_type": "execute_result"
    }
   ],
   "source": [
    "ROOT.gInterpreter.ProcessLine('f0.SetNpx(10000)')\n",
    "ROOT.gInterpreter.ProcessLine('f0.SetParameter(0, 2.e+4)')\n",
    "ROOT.gInterpreter.ProcessLine('f0.SetParameter(1, 6)')"
   ]
  },
  {
   "cell_type": "code",
   "execution_count": 16,
   "id": "0bfa45d2",
   "metadata": {},
   "outputs": [
    {
     "data": {
      "text/plain": [
       "94256007846576"
      ]
     },
     "execution_count": 16,
     "metadata": {},
     "output_type": "execute_result"
    },
    {
     "name": "stdout",
     "output_type": "stream",
     "text": [
      " FCN=131.818 FROM MIGRAD    STATUS=CONVERGED      53 CALLS          54 TOTAL\n",
      "                     EDM=9.41675e-08    STRATEGY= 1      ERROR MATRIX ACCURATE \n",
      "  EXT PARAMETER                                   STEP         FIRST   \n",
      "  NO.   NAME      VALUE            ERROR          SIZE      DERIVATIVE \n",
      "   1  p0           9.99898e+05   1.00021e+03   5.54639e+00   3.10188e-07\n",
      "   2  p1           6.00167e+00   3.19682e-03   1.79895e-05   9.47855e-02\n",
      "(TFitResultPtr) <nullptr TFitResult>\n"
     ]
    },
    {
     "name": "stderr",
     "output_type": "stream",
     "text": [
      "Info in <TCanvas::MakeDefCanvas>:  created default TCanvas with name c1\n"
     ]
    }
   ],
   "source": [
    "ROOT.gInterpreter.ProcessLine('kf_chi2->Fit(&f0)')"
   ]
  },
  {
   "cell_type": "code",
   "execution_count": 25,
   "id": "d4afbea7",
   "metadata": {
    "scrolled": false
   },
   "outputs": [
    {
     "data": {
      "image/png": "[encoded data removed]",
      "text/plain": [
       "<Figure size 279.78x172.914 with 1 Axes>"
      ]
     },
     "metadata": {},
     "output_type": "display_data"
    }
   ],
   "source": [
    "draw_chi2_gaussian_sim(\"kf_chi2\", \"f0\", \n",
    "                       xlabel=r'$\\chi^2$',\n",
    "                       ylabel='events',\n",
    "                     fraction=0.47,\n",
    "                    info_coords=(0.3, 0.3),\n",
    "                    dh=0.8, dw=-0.3,\n",
    "                      h_y=4000,\n",
    "                      h_x=10)\n",
    "plt.savefig('etapipi_ynonmeas_gaussian_sim_chi2.eps', bbox_inches='tight')"
   ]
  },
  {
   "cell_type": "code",
   "execution_count": 18,
   "id": "819cc2e5",
   "metadata": {},
   "outputs": [
    {
     "data": {
      "image/png": "[encoded data removed]",
      "text/plain": [
       "<Figure size 279.78x172.914 with 1 Axes>"
      ]
     },
     "metadata": {},
     "output_type": "display_data"
    }
   ],
   "source": [
    "draw_1d_hist(\"qhist\", \n",
    "             xlabel=r'$\\frac{1}{2}\\Delta\\bm{y}^{\\intercal}\\hat{Q}\\Delta\\bm{y}$',\n",
    "             ylabel='events',\n",
    "            fraction=0.47,\n",
    "            info_coords=(0.55, 0.55),\n",
    "            h_y=5000, h_x=3)\n",
    "plt.gcf().subplots_adjust(bottom=0.275)\n",
    "plt.savefig(\"qhalf_gsim_etapipi.eps\", bbox_inches='tight')"
   ]
  },
  {
   "cell_type": "code",
   "execution_count": 19,
   "id": "942fa0ba",
   "metadata": {
    "scrolled": true
   },
   "outputs": [
    {
     "data": {
      "image/png": "[encoded data removed]",
      "text/plain": [
       "<Figure size 279.78x172.914 with 2 Axes>"
      ]
     },
     "metadata": {},
     "output_type": "display_data"
    }
   ],
   "source": [
    "import matplotlib.colors as colors\n",
    "import numpy as np\n",
    "bounds = np.linspace(0, 8, 16)\n",
    "norm = colors.BoundaryNorm(boundaries=bounds, ncolors=256)\n",
    "draw_2d_hist2('chi2_vs_q', \n",
    "              xlabel=r'$\\chi^2$', \n",
    "              ylabel=r'$\\frac{1}{2}\\Delta\\bm{y}^{\\intercal}\\hat{Q}\\Delta\\bm{y}$', \n",
    "              fraction=0.47,\n",
    "              bins=(200, 200),\n",
    "              norm=norm,\n",
    "              clip=((0, 30.), (-3., 5.)))\n",
    "plt.gcf().subplots_adjust(left=0.235)\n",
    "plt.gcf().subplots_adjust(bottom=0.26)\n",
    "plt.savefig('qhalf_vs_chi2_gsim_etapipi.eps')"
   ]
  },
  {
   "cell_type": "code",
   "execution_count": 20,
   "id": "e12f0b76",
   "metadata": {},
   "outputs": [],
   "source": [
    "from ROOT import TCanvas"
   ]
  },
  {
   "cell_type": "code",
   "execution_count": 21,
   "id": "b93f909d",
   "metadata": {},
   "outputs": [
    {
     "data": {
      "image/png": "[encoded data removed]",
      "text/plain": [
       "<IPython.core.display.Image object>"
      ]
     },
     "metadata": {},
     "output_type": "display_data"
    }
   ],
   "source": [
    "cnv0 = TCanvas()\n",
    "fl.sigma_z.Draw()\n",
    "cnv0.Draw()"
   ]
  },
  {
   "cell_type": "code",
   "execution_count": 22,
   "id": "79c7745c",
   "metadata": {},
   "outputs": [
    {
     "data": {
      "image/png": "[encoded data removed]",
      "text/plain": [
       "<IPython.core.display.Image object>"
      ]
     },
     "metadata": {},
     "output_type": "display_data"
    }
   ],
   "source": [
    "cnv1 = TCanvas()\n",
    "fl.vtx_dz.Draw()\n",
    "cnv1.Draw()"
   ]
  },
  {
   "cell_type": "code",
   "execution_count": 23,
   "id": "5b00c1f1",
   "metadata": {},
   "outputs": [
    {
     "name": "stderr",
     "output_type": "stream",
     "text": [
      "Info in <TCanvas::SaveAs>: ROOT file etapipi_gaussian_sim_vtx0_dz_pull.root has been created\n"
     ]
    },
    {
     "data": {
      "image/png": "[encoded data removed]",
      "text/plain": [
       "<IPython.core.display.Image object>"
      ]
     },
     "metadata": {},
     "output_type": "display_data"
    }
   ],
   "source": [
    "cnv2 = TCanvas()\n",
    "fl.vtx_dz_pull.Draw()\n",
    "hist = fl.vtx_dz_pull\n",
    "hist.SetLineWidth(3)\n",
    "hist.GetXaxis().SetTitle(\"#Deltaz / #sqrt{var(z^{fit})}\")\n",
    "hist.GetXaxis().SetTitleSize(0.06)\n",
    "hist.GetXaxis().SetLabelSize(0.06)\n",
    "hist.GetYaxis().SetTitle(\"events\")\n",
    "hist.GetYaxis().SetTitleSize(0.06)\n",
    "hist.GetYaxis().SetLabelSize(0.06)\n",
    "cnv2.Draw()\n",
    "cnv2.SaveAs(\"etapipi_gaussian_sim_vtx0_dz_pull.root\")"
   ]
  },
  {
   "cell_type": "code",
   "execution_count": 24,
   "id": "dc333bb1",
   "metadata": {
    "scrolled": true
   },
   "outputs": [],
   "source": [
    "# fl.Close()"
   ]
  },
  {
   "cell_type": "code",
   "execution_count": null,
   "id": "ab1cd16a",
   "metadata": {},
   "outputs": [],
   "source": []
  }
 ],
 "metadata": {
  "kernelspec": {
   "display_name": "Python 3 (ipykernel)",
   "language": "python",
   "name": "python3"
  },
  "language_info": {
   "codemirror_mode": {
    "name": "ipython",
    "version": 3
   },
   "file_extension": ".py",
   "mimetype": "text/x-python",
   "name": "python",
   "nbconvert_exporter": "python",
   "pygments_lexer": "ipython3",
   "version": "3.10.8"
  }
 },
 "nbformat": 4,
 "nbformat_minor": 5
}
