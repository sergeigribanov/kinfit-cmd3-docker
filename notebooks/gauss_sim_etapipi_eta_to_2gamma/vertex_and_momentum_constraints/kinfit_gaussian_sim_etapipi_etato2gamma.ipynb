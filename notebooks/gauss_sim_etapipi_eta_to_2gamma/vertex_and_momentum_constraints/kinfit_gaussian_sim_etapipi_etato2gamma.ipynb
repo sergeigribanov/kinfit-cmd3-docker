{
 "cells": [
  {
   "cell_type": "code",
   "execution_count": 1,
   "id": "92ac8f6e",
   "metadata": {},
   "outputs": [
    {
     "name": "stdout",
     "output_type": "stream",
     "text": [
      "Welcome to JupyROOT 6.26/08\n"
     ]
    }
   ],
   "source": [
    "import ROOT\n",
    "from draw_funcs import draw_chi2_gaussian_sim\n",
    "from ROOT import TFile\n",
    "import matplotlib.pyplot as plt"
   ]
  },
  {
   "cell_type": "code",
   "execution_count": 2,
   "id": "7658cd6e",
   "metadata": {},
   "outputs": [],
   "source": [
    "entry = 6\n",
    "nevents = 1000000\n",
    "mfield = 1.3\n",
    "input_path = '/var/kinfit/data/tr_ph_run021142.root'\n",
    "output_path = 'kinfit_gaussian_fit_etapipi_etato2gamma_run021142_.root'"
   ]
  },
  {
   "cell_type": "code",
   "execution_count": 3,
   "id": "a107e174",
   "metadata": {},
   "outputs": [],
   "source": [
    "# ROOT.gInterpreter.ProcessLine('gROOT->LoadMacro(\"/home/hep/packages/gaussgen/share/gaussgen/rootlogon.C\")')"
   ]
  },
  {
   "cell_type": "code",
   "execution_count": 4,
   "id": "62d020ff",
   "metadata": {},
   "outputs": [],
   "source": [
    "# ROOT.gInterpreter.ProcessLine('gROOT->LoadMacro(\"/home/hep/packages/kfcmd/share/kfcmd/rootlogon.C\")')"
   ]
  },
  {
   "cell_type": "code",
   "execution_count": 5,
   "id": "cac4c447",
   "metadata": {},
   "outputs": [],
   "source": [
    "# ROOT.gInterpreter.ProcessLine('.L TrPh.C++')"
   ]
  },
  {
   "cell_type": "code",
   "execution_count": 6,
   "id": "17ccac93",
   "metadata": {},
   "outputs": [],
   "source": [
    "# ROOT.gInterpreter.ProcessLine('TFile fl(\"{}\", \"read\")'.format(input_path))"
   ]
  },
  {
   "cell_type": "code",
   "execution_count": 7,
   "id": "1227bd18",
   "metadata": {},
   "outputs": [],
   "source": [
    "# ROOT.gInterpreter.ProcessLine('TrPh a(tr_ph)')"
   ]
  },
  {
   "cell_type": "code",
   "execution_count": 8,
   "id": "a63cae15",
   "metadata": {},
   "outputs": [],
   "source": [
    "# ROOT.gInterpreter.ProcessLine('a.setNEvents({})'.format(nevents))"
   ]
  },
  {
   "cell_type": "code",
   "execution_count": 9,
   "id": "42136d4c",
   "metadata": {},
   "outputs": [],
   "source": [
    "# ROOT.gInterpreter.ProcessLine('a.setEntry({})'.format(entry))"
   ]
  },
  {
   "cell_type": "code",
   "execution_count": 10,
   "id": "911d151b",
   "metadata": {},
   "outputs": [],
   "source": [
    "# ROOT.gInterpreter.ProcessLine('a.Loop(\"{output_path}\", {mfield})'.format(output_path=output_path, mfield=mfield))"
   ]
  },
  {
   "cell_type": "code",
   "execution_count": 11,
   "id": "299e14a7",
   "metadata": {},
   "outputs": [],
   "source": [
    "# ROOT.gInterpreter.ProcessLine('fl.Close()')"
   ]
  },
  {
   "cell_type": "code",
   "execution_count": 12,
   "id": "fd7b10b1",
   "metadata": {},
   "outputs": [],
   "source": [
    "fl = TFile.Open(output_path, 'read')"
   ]
  },
  {
   "cell_type": "code",
   "execution_count": 13,
   "id": "7dcd4dec",
   "metadata": {},
   "outputs": [
    {
     "data": {
      "text/plain": [
       "0"
      ]
     },
     "execution_count": 13,
     "metadata": {},
     "output_type": "execute_result"
    }
   ],
   "source": [
    "ROOT.gInterpreter.ProcessLine('''double fcn(double *x, double *p) {\n",
    "                                        return 0.1875 * p[0] * ROOT::Math::chisquared_pdf(x[0], p[1]);}''')"
   ]
  },
  {
   "cell_type": "code",
   "execution_count": 14,
   "id": "716256b0",
   "metadata": {},
   "outputs": [
    {
     "data": {
      "text/plain": [
       "140694621212704"
      ]
     },
     "execution_count": 14,
     "metadata": {},
     "output_type": "execute_result"
    },
    {
     "name": "stdout",
     "output_type": "stream",
     "text": [
      "(TF1 &) Name: f0 Title: f0\n"
     ]
    }
   ],
   "source": [
    "ROOT.gInterpreter.ProcessLine('TF1 f0(\"f0\", fcn, 0, 24, 2)')"
   ]
  },
  {
   "cell_type": "code",
   "execution_count": 15,
   "id": "9f78b49b",
   "metadata": {},
   "outputs": [
    {
     "data": {
      "text/plain": [
       "0"
      ]
     },
     "execution_count": 15,
     "metadata": {},
     "output_type": "execute_result"
    }
   ],
   "source": [
    "ROOT.gInterpreter.ProcessLine('f0.SetNpx(10000)')\n",
    "ROOT.gInterpreter.ProcessLine('f0.SetParameter(0, 2.e+4)')\n",
    "ROOT.gInterpreter.ProcessLine('f0.SetParameter(1, 5)')"
   ]
  },
  {
   "cell_type": "code",
   "execution_count": 16,
   "id": "0bfa45d2",
   "metadata": {},
   "outputs": [
    {
     "data": {
      "text/plain": [
       "94227279645280"
      ]
     },
     "execution_count": 16,
     "metadata": {},
     "output_type": "execute_result"
    },
    {
     "name": "stdout",
     "output_type": "stream",
     "text": [
      " FCN=137.123 FROM MIGRAD    STATUS=CONVERGED      53 CALLS          54 TOTAL\n",
      "                     EDM=2.34882e-10    STRATEGY= 1      ERROR MATRIX ACCURATE \n",
      "  EXT PARAMETER                                   STEP         FIRST   \n",
      "  NO.   NAME      VALUE            ERROR          SIZE      DERIVATIVE \n",
      "   1  p0           9.99886e+05   1.00020e+03   5.65602e+00  -3.97365e-09\n",
      "   2  p1           5.99681e+00   3.19310e-03   1.83237e-05   6.67440e-03\n",
      "(TFitResultPtr) <nullptr TFitResult>\n"
     ]
    },
    {
     "name": "stderr",
     "output_type": "stream",
     "text": [
      "Info in <TCanvas::MakeDefCanvas>:  created default TCanvas with name c1\n"
     ]
    }
   ],
   "source": [
    "ROOT.gInterpreter.ProcessLine('kf_chi2->Fit(&f0)')"
   ]
  },
  {
   "cell_type": "code",
   "execution_count": 17,
   "id": "d4afbea7",
   "metadata": {
    "scrolled": true
   },
   "outputs": [
    {
     "data": {
      "image/png": "[encoded data removed]",
      "text/plain": [
       "<Figure size 279.78x172.914 with 1 Axes>"
      ]
     },
     "metadata": {},
     "output_type": "display_data"
    }
   ],
   "source": [
    "draw_chi2_gaussian_sim(\"kf_chi2\", \"f0\", xlabel=r'$\\chi^2$',\n",
    "                       ylabel='events',\n",
    "                      fraction=0.47,\n",
    "                       info_coords=(0.3, 0.3),\n",
    "                       dh=0.8, dw=-0.3,\n",
    "                      h_y=8000, h_x=10)\n",
    "plt.savefig('kf_chi2_gsim_etapipi_vertex_and_momentum_constraints.eps', bbox_inches='tight')"
   ]
  },
  {
   "cell_type": "code",
   "execution_count": 18,
   "id": "dc333bb1",
   "metadata": {
    "scrolled": true
   },
   "outputs": [],
   "source": [
    "# fl.Close()"
   ]
  },
  {
   "cell_type": "code",
   "execution_count": null,
   "id": "ab1cd16a",
   "metadata": {},
   "outputs": [],
   "source": []
  }
 ],
 "metadata": {
  "kernelspec": {
   "display_name": "Python 3 (ipykernel)",
   "language": "python",
   "name": "python3"
  },
  "language_info": {
   "codemirror_mode": {
    "name": "ipython",
    "version": 3
   },
   "file_extension": ".py",
   "mimetype": "text/x-python",
   "name": "python",
   "nbconvert_exporter": "python",
   "pygments_lexer": "ipython3",
   "version": "3.10.8"
  }
 },
 "nbformat": 4,
 "nbformat_minor": 5
}
